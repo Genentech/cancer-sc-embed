{
 "cells": [
  {
   "cell_type": "code",
   "execution_count": 53,
   "id": "1c07c524-0b9b-47c5-959b-8ffdb4fe1ca9",
   "metadata": {},
   "outputs": [],
   "source": [
    "files <- list.files(path=\"data/crc_data//cnv_results//\", pattern=\"*RDS\", full.names=TRUE, recursive=FALSE)"
   ]
  },
  {
   "cell_type": "code",
   "execution_count": 65,
   "id": "311832c1-0874-482c-a589-bc62d83ddd99",
   "metadata": {},
   "outputs": [
    {
     "name": "stdout",
     "output_type": "stream",
     "text": [
      "[1] \"data/crc_data//cnv_results///cna_matrix_Lee_2020_CRC_SMC_scRNAseq_A1.RDS\"\n",
      "[1] \"data/crc_data//cnv_results///cna_matrix_Lee_2020_CRC_SMC_scRNAseq_A10.RDS\"\n",
      "[1] \"data/crc_data//cnv_results///cna_matrix_Lee_2020_CRC_SMC_scRNAseq_A11.RDS\"\n",
      "[1] \"data/crc_data//cnv_results///cna_matrix_Lee_2020_CRC_SMC_scRNAseq_A12.RDS\"\n",
      "[1] \"data/crc_data//cnv_results///cna_matrix_Lee_2020_CRC_SMC_scRNAseq_A13.RDS\"\n",
      "[1] \"data/crc_data//cnv_results///cna_matrix_Lee_2020_CRC_SMC_scRNAseq_A14.RDS\"\n",
      "[1] \"data/crc_data//cnv_results///cna_matrix_Lee_2020_CRC_SMC_scRNAseq_A15.RDS\"\n",
      "[1] \"data/crc_data//cnv_results///cna_matrix_Lee_2020_CRC_SMC_scRNAseq_A2.RDS\"\n",
      "[1] \"data/crc_data//cnv_results///cna_matrix_Lee_2020_CRC_SMC_scRNAseq_A3.RDS\"\n",
      "[1] \"data/crc_data//cnv_results///cna_matrix_Lee_2020_CRC_SMC_scRNAseq_A4.RDS\"\n",
      "[1] \"data/crc_data//cnv_results///cna_matrix_Lee_2020_CRC_SMC_scRNAseq_A5.RDS\"\n",
      "[1] \"data/crc_data//cnv_results///cna_matrix_Lee_2020_CRC_SMC_scRNAseq_A6.RDS\"\n",
      "[1] \"data/crc_data//cnv_results///cna_matrix_Lee_2020_CRC_SMC_scRNAseq_A7.RDS\"\n",
      "[1] \"data/crc_data//cnv_results///cna_matrix_Lee_2020_CRC_SMC_scRNAseq_A8.RDS\"\n",
      "[1] \"data/crc_data//cnv_results///cna_matrix_Lee_2020_CRC_SMC_scRNAseq_A9.RDS\"\n"
     ]
    }
   ],
   "source": [
    "cnv_list = list()\n",
    "for(x in files){\n",
    "    print(x)\n",
    "    a = readRDS(x)\n",
    "    a = melt(a$cna_matrix)\n",
    "    colnames(a) = c(\"gene\",\"cell\",\"log2CNA\")\n",
    "    a = a[a$log2CNA!=0,]\n",
    "    # add to list\n",
    "    cnv_list[[length(cnv_list) + 1]] <- a }"
   ]
  },
  {
   "cell_type": "code",
   "execution_count": 68,
   "id": "e9c5d28e-ad7e-46b0-a320-867a7c5bc2ee",
   "metadata": {},
   "outputs": [],
   "source": [
    "all_cnvs = do.call(rbind, cnv_list)\n"
   ]
  },
  {
   "cell_type": "code",
   "execution_count": 70,
   "id": "8275bea1-ef93-4dc4-8705-33ae7621cdf0",
   "metadata": {},
   "outputs": [],
   "source": [
    "write.csv(all_cnvs, \"outputs/all_crc_cnvs_long.csv\", row.names=F)"
   ]
  },
  {
   "cell_type": "code",
   "execution_count": null,
   "id": "8d3ecfce-9061-474c-808e-55551efb5952",
   "metadata": {},
   "outputs": [],
   "source": []
  }
 ],
 "metadata": {
  "kernelspec": {
   "display_name": "R (infercnv-env)",
   "language": "R",
   "name": "ir_infercnv"
  },
  "language_info": {
   "codemirror_mode": "r",
   "file_extension": ".r",
   "mimetype": "text/x-r-source",
   "name": "R",
   "pygments_lexer": "r",
   "version": "4.2.3"
  }
 },
 "nbformat": 4,
 "nbformat_minor": 5
}
