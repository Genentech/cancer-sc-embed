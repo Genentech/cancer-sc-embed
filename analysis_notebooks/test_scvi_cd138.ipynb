{
 "cells": [
  {
   "cell_type": "code",
   "execution_count": null,
   "id": "daee1313-57d6-474e-9ee0-6b064c4bdc26",
   "metadata": {},
   "outputs": [],
   "source": [
    "import torch\n",
    "%env CUDA_VISIBLE_DEVICES=0\n",
    "torch.cuda.is_available()"
   ]
  },
  {
   "cell_type": "code",
   "execution_count": null,
   "id": "74241cc7-4bf7-43fd-8a55-d6d91e225717",
   "metadata": {},
   "outputs": [],
   "source": [
    "import scvi"
   ]
  },
  {
   "cell_type": "code",
   "execution_count": null,
   "id": "0a03208d-8836-4440-8d12-ba35ffb3b1a9",
   "metadata": {},
   "outputs": [],
   "source": [
    "import scanpy as sc\n",
    "import numpy as np\n",
    "import pandas as pd\n",
    "import hotspot\n",
    "import pickle\n",
    "import seaborn as sns\n",
    "import gcsfs"
   ]
  },
  {
   "cell_type": "markdown",
   "id": "6f9a1b02-8500-4492-898e-67fa04a1582d",
   "metadata": {},
   "source": [
    "## load Boiarsky et al MM data"
   ]
  },
  {
   "cell_type": "code",
   "execution_count": null,
   "id": "bb3c18f1-f127-423d-8dad-7aa393dc6f9f",
   "metadata": {},
   "outputs": [],
   "source": [
    "!gsutil cp gs://rebecca-summer23/cd138_adata_MOREHVG_noIG.h5ad /tmp"
   ]
  },
  {
   "cell_type": "code",
   "execution_count": null,
   "id": "c3af2dbd-7cf4-4c73-9020-1f110e7bf07f",
   "metadata": {},
   "outputs": [],
   "source": [
    "cd138_adata = sc.read_h5ad(\"/tmp/cd138_adata_MOREHVG_noIG.h5ad\")"
   ]
  },
  {
   "cell_type": "code",
   "execution_count": null,
   "id": "5bcc1dae-20d0-4010-ba37-a540b0e3630f",
   "metadata": {},
   "outputs": [],
   "source": [
    "cd138_adata.var.highly_variable.sum()"
   ]
  },
  {
   "cell_type": "markdown",
   "id": "c08f8c0c-1e45-472d-a86b-c53b5202e387",
   "metadata": {},
   "source": [
    "### better define HVGs"
   ]
  },
  {
   "cell_type": "code",
   "execution_count": null,
   "id": "23247e32-fb02-4269-8f72-ac01897a764f",
   "metadata": {},
   "outputs": [],
   "source": [
    "sc.pp.highly_variable_genes(cd138_adata, min_mean=0.0125, max_mean=4, min_disp=0.3,layer=\"lognorm\")\n",
    "cd138_adata.var.highly_variable.sum()"
   ]
  },
  {
   "cell_type": "code",
   "execution_count": null,
   "id": "bc047824-44fe-454a-bea6-dec72bbb100b",
   "metadata": {},
   "outputs": [],
   "source": [
    "sc.pl.highly_variable_genes(cd138_adata)\n"
   ]
  },
  {
   "cell_type": "markdown",
   "id": "3e9f08be-89c7-408a-916a-30522b3e32f2",
   "metadata": {},
   "source": [
    "## run vanilla scVI "
   ]
  },
  {
   "cell_type": "code",
   "execution_count": null,
   "id": "22d028a6-fa2c-4821-b62c-8e45d0309e05",
   "metadata": {},
   "outputs": [],
   "source": [
    "scvi.model.SCVI.setup_anndata(cd138_adata, layer=\"counts\")"
   ]
  },
  {
   "cell_type": "code",
   "execution_count": null,
   "id": "8cdd920a-2399-43cd-a52f-9a1fb521288b",
   "metadata": {},
   "outputs": [],
   "source": [
    "vae = scvi.model.SCVI(cd138_adata, gene_likelihood='nb')"
   ]
  },
  {
   "cell_type": "code",
   "execution_count": null,
   "id": "4190fefd-f490-48b8-bff7-34d5bfaedd74",
   "metadata": {},
   "outputs": [],
   "source": [
    "vae.train()"
   ]
  },
  {
   "cell_type": "code",
   "execution_count": null,
   "id": "bcb547ce-a2ad-4db5-ab30-9361293d220a",
   "metadata": {},
   "outputs": [],
   "source": [
    "!gsutil cp gs://rebecca-summer23/outputs/vanilla_scvi_cd138.pkl /tmp"
   ]
  },
  {
   "cell_type": "code",
   "execution_count": null,
   "id": "b68a3566-6648-40f5-ba9c-3589586d4d5a",
   "metadata": {},
   "outputs": [],
   "source": [
    "file = open('/tmp/vanilla_scvi_cd138.pkl', 'rb')\n",
    "\n",
    "# dump information to that file\n",
    "vae = pickle.load(file)\n",
    "\n",
    "# close the file\n",
    "file.close()"
   ]
  },
  {
   "cell_type": "code",
   "execution_count": null,
   "id": "19a5b77b-0f96-4681-b402-eac3296b74a6",
   "metadata": {},
   "outputs": [],
   "source": [
    "cd138_adata.obsm[\"X_scvi\"] = vae.get_latent_representation()"
   ]
  },
  {
   "cell_type": "code",
   "execution_count": null,
   "id": "500a4cb9-5f34-4f5e-8851-b9a580ca099e",
   "metadata": {},
   "outputs": [],
   "source": [
    "#save original UMAP\n",
    "cd138_adata.obsm[\"X_umap_pca-based\"] = cd138_adata.obsm['X_umap']"
   ]
  },
  {
   "cell_type": "code",
   "execution_count": null,
   "id": "65dd47e9-47fb-418b-be95-fe311657ec89",
   "metadata": {},
   "outputs": [],
   "source": [
    "#post-code changes -- not qualitatively different (which is good, since I did not pass in CNVs in this test)\n",
    "sc.pp.neighbors(cd138_adata, use_rep=\"X_scvi\")\n",
    "sc.tl.umap(cd138_adata)"
   ]
  },
  {
   "cell_type": "code",
   "execution_count": null,
   "id": "636fc2ea-ef12-457f-abbc-957f4e9f6eaf",
   "metadata": {},
   "outputs": [],
   "source": [
    "sc.pl.umap(cd138_adata, color=[\"disease_stage\", \"person\"])"
   ]
  },
  {
   "cell_type": "markdown",
   "id": "3c6970a7-ee75-4c55-a431-372db061170d",
   "metadata": {},
   "source": [
    "#### calculate PC regression for vanilla scVI latent"
   ]
  },
  {
   "cell_type": "code",
   "execution_count": null,
   "id": "0b52fe24-88b3-4637-a24b-61c1d9cdb41b",
   "metadata": {},
   "outputs": [],
   "source": [
    "from sklearn.metrics import r2_score \n",
    "\n",
    "sig = \"logW24\"\n",
    "\n",
    "r2s = []\n",
    "for i in np.arange(10):\n",
    "    r2s.append(r2_score(cd138_adata.obs[sig], cd138_adata.obsm['X_scvi'][:,i]))\n",
    "#print(np.sum(np.array(r2s)*cd138_adata.uns['pca']['variance'][:n_pcs]))\n",
    "print(np.sum(np.array(r2s)))"
   ]
  },
  {
   "cell_type": "markdown",
   "id": "e46e1e67-ac41-4840-8363-3989d82c8252",
   "metadata": {},
   "source": [
    "#### expression of NMF modules"
   ]
  },
  {
   "cell_type": "code",
   "execution_count": null,
   "id": "a516f03c-8aa2-4a04-9af7-2895c09b483e",
   "metadata": {},
   "outputs": [],
   "source": [
    "sc.pl.umap(cd138_adata, color=['logW3', 'logW4', 'logW5', 'logW8', 'logW9', 'logW11', 'logW16', 'logW20', 'logW24', 'logW28'])"
   ]
  },
  {
   "cell_type": "markdown",
   "id": "5f38cea1-6c23-4911-ba7e-efeb04e8973b",
   "metadata": {},
   "source": [
    "#### color by translocation"
   ]
  },
  {
   "cell_type": "code",
   "execution_count": null,
   "id": "04b2272c-fe49-41df-9a17-aeae5d909288",
   "metadata": {},
   "outputs": [],
   "source": [
    "sc.pl.umap(cd138_adata, color=['driver event', 'driver_event_specific'])"
   ]
  },
  {
   "cell_type": "markdown",
   "id": "40988122-094f-41f8-8617-fed4386e1928",
   "metadata": {},
   "source": [
    "# run vanilla scvi with HVGs (do we need to retain more HVGs?)"
   ]
  },
  {
   "cell_type": "code",
   "execution_count": null,
   "id": "b9211856-161f-4a62-bca5-44fb721304a9",
   "metadata": {},
   "outputs": [],
   "source": [
    "cd138_adata_hvg = cd138_adata[:,cd138_adata.var.highly_variable].copy()"
   ]
  },
  {
   "cell_type": "code",
   "execution_count": null,
   "id": "2c109657-37b0-424a-9be0-09fc6678cc15",
   "metadata": {},
   "outputs": [],
   "source": [
    "scvi.model.SCVI.setup_anndata(cd138_adata_hvg, layer=\"counts\")"
   ]
  },
  {
   "cell_type": "code",
   "execution_count": null,
   "id": "02b714b9-c192-4e95-9e8c-ad0c467c003a",
   "metadata": {},
   "outputs": [],
   "source": [
    "vae = scvi.model.SCVI(cd138_adata_hvg, gene_likelihood='nb')"
   ]
  },
  {
   "cell_type": "code",
   "execution_count": null,
   "id": "9539c609-7dfc-4006-8fa8-4796d5bf16e2",
   "metadata": {},
   "outputs": [],
   "source": [
    "vae.train()"
   ]
  },
  {
   "cell_type": "code",
   "execution_count": null,
   "id": "09bc8ac3-b421-4152-9e2f-2b95fdb42813",
   "metadata": {},
   "outputs": [],
   "source": [
    "cd138_adata.obsm[\"X_scvi_hvg\"] = vae.get_latent_representation()"
   ]
  },
  {
   "cell_type": "code",
   "execution_count": null,
   "id": "853ef4ea-7e51-449f-ada0-3d2833b9c3c6",
   "metadata": {},
   "outputs": [],
   "source": [
    "sc.pp.neighbors(cd138_adata, use_rep=\"X_scvi_hvg\")\n",
    "sc.tl.umap(cd138_adata)"
   ]
  },
  {
   "cell_type": "code",
   "execution_count": null,
   "id": "4f8ea1c2-951e-4935-a118-1e649a81433f",
   "metadata": {},
   "outputs": [],
   "source": [
    "sc.pl.umap(cd138_adata, color=[\"disease_stage\", \"person\"])"
   ]
  },
  {
   "cell_type": "code",
   "execution_count": null,
   "id": "0fa62120-1cae-420e-8890-86dea0ae1c93",
   "metadata": {},
   "outputs": [],
   "source": [
    "sc.pl.umap(cd138_adata, color=[\"disease_stage\", \"person\"])"
   ]
  },
  {
   "cell_type": "markdown",
   "id": "e7a3656a-3f16-4c04-8306-5fa0e69e6573",
   "metadata": {},
   "source": [
    "## batch correct by patient in vanilla scVI "
   ]
  },
  {
   "cell_type": "code",
   "execution_count": null,
   "id": "560b9466-72c5-4214-895b-5ff3e3e223bc",
   "metadata": {},
   "outputs": [],
   "source": [
    "cd138_adata_hvg = cd138_adata[:,cd138_adata.var.highly_variable].copy()"
   ]
  },
  {
   "cell_type": "code",
   "execution_count": null,
   "id": "a5a2a80c-0fc1-4987-b94c-3e7057a6c948",
   "metadata": {},
   "outputs": [],
   "source": [
    "scvi.model.SCVI.setup_anndata(cd138_adata_hvg, layer=\"counts\", batch_key=\"person\")"
   ]
  },
  {
   "cell_type": "code",
   "execution_count": null,
   "id": "955df94a-e106-46fc-8455-a69cc4d1c42e",
   "metadata": {},
   "outputs": [],
   "source": [
    "vae = scvi.model.SCVI(cd138_adata_hvg, gene_likelihood='nb')"
   ]
  },
  {
   "cell_type": "code",
   "execution_count": null,
   "id": "d66bab43-8faf-437d-8f49-648d1fe83897",
   "metadata": {},
   "outputs": [],
   "source": [
    "vae.train()"
   ]
  },
  {
   "cell_type": "code",
   "execution_count": null,
   "id": "4912a616-a387-4e31-b087-8ff112aba99f",
   "metadata": {},
   "outputs": [],
   "source": [
    "cd138_adata.obsm[\"X_scvi_batchcorrect\"] = vae.get_latent_representation()"
   ]
  },
  {
   "cell_type": "code",
   "execution_count": null,
   "id": "3c3059c3-6e05-409e-9900-520e29cd5793",
   "metadata": {},
   "outputs": [],
   "source": [
    "sc.pp.neighbors(cd138_adata, use_rep=\"X_scvi_batchcorrect\")\n",
    "sc.tl.umap(cd138_adata)\n",
    "sc.pl.umap(cd138_adata, color=[\"person\",\"disease_stage\"])"
   ]
  },
  {
   "cell_type": "markdown",
   "id": "3d669dae-bf92-43b0-9e47-6fad6315b668",
   "metadata": {},
   "source": [
    "### do things just look really bad bc not enough HVGs were retained? might this have been the problem for mrVI too? (I think I was getting noise even with all genes for mrVI but double check)\n",
    "### might want to recalculate HVGs to include more before continuing"
   ]
  },
  {
   "cell_type": "code",
   "execution_count": null,
   "id": "5c4d117f-774a-4189-83eb-a930356d6ede",
   "metadata": {},
   "outputs": [],
   "source": [
    "#now with more hvgs\n",
    "cd138_adata_hvg = cd138_adata[:,cd138_adata.var.highly_variable].copy()\n",
    "cd138_adata_hvg.shape"
   ]
  },
  {
   "cell_type": "code",
   "execution_count": null,
   "id": "efdc55d1-b0dc-4c41-b353-67649c80bc16",
   "metadata": {},
   "outputs": [],
   "source": [
    "scvi.model.SCVI.setup_anndata(cd138_adata_hvg, layer=\"counts\", batch_key=\"person\")"
   ]
  },
  {
   "cell_type": "code",
   "execution_count": null,
   "id": "c8476e72-0261-4adb-9982-1c033bdb61c1",
   "metadata": {},
   "outputs": [],
   "source": [
    "vae = scvi.model.SCVI(cd138_adata_hvg, gene_likelihood='nb')"
   ]
  },
  {
   "cell_type": "code",
   "execution_count": null,
   "id": "cb51751a-8be9-4bd5-ae2f-d809e4e4587b",
   "metadata": {},
   "outputs": [],
   "source": [
    "vae.train()"
   ]
  },
  {
   "cell_type": "code",
   "execution_count": null,
   "id": "b26f31bd-07f4-4e2c-b784-c5be66ef8cde",
   "metadata": {},
   "outputs": [],
   "source": [
    "cd138_adata.obsm[\"X_scvi_batchcorrect_morehvg\"] = vae.get_latent_representation()"
   ]
  },
  {
   "cell_type": "code",
   "execution_count": null,
   "id": "19b21611-b7a3-4639-ac27-7ab1eb9e1c06",
   "metadata": {},
   "outputs": [],
   "source": [
    "sc.pp.neighbors(cd138_adata, use_rep=\"X_scvi_batchcorrect_morehvg\")\n",
    "sc.tl.umap(cd138_adata)\n",
    "sc.pl.umap(cd138_adata, color=[\"person\",\"disease_stage\"])"
   ]
  },
  {
   "cell_type": "code",
   "execution_count": null,
   "id": "b5b72b39-d205-4db8-9716-e860085d8950",
   "metadata": {},
   "outputs": [],
   "source": [
    "sc.pl.umap(cd138_adata, color=\"disease_stage\")"
   ]
  },
  {
   "cell_type": "markdown",
   "id": "c40c7fa5-12f4-4069-af62-a389b89e2b90",
   "metadata": {},
   "source": [
    "### if I run again patient batch crxn again with all genes, do I recover original latent (with disease stages pretty well separated?)"
   ]
  },
  {
   "cell_type": "code",
   "execution_count": null,
   "id": "6cfe6eed-e91b-4ff9-b95b-f4cffa8ecc7a",
   "metadata": {},
   "outputs": [],
   "source": [
    "scvi.model.SCVI.setup_anndata(cd138_adata, layer=\"counts\", batch_key=\"person\")"
   ]
  },
  {
   "cell_type": "code",
   "execution_count": null,
   "id": "e6e95a9e-e05e-4ce0-8925-6ca49c2912e4",
   "metadata": {},
   "outputs": [],
   "source": [
    "vae = scvi.model.SCVI(cd138_adata, gene_likelihood='nb')"
   ]
  },
  {
   "cell_type": "code",
   "execution_count": null,
   "id": "06ba72df-273c-4a3f-9663-86d4207ccb0b",
   "metadata": {},
   "outputs": [],
   "source": [
    "vae.train()"
   ]
  },
  {
   "cell_type": "code",
   "execution_count": null,
   "id": "1507f310-da01-4315-b52b-6bac9f2547b4",
   "metadata": {},
   "outputs": [],
   "source": [
    "#pickle mrvi sample=person results\n",
    "import pickle \n",
    "\n",
    "# open a file, where you ant to store the data\n",
    "file = open('outputs/scvi_ptbatchcorrect_allgenes.pkl', 'wb')\n",
    "\n",
    "# dump information to that file\n",
    "pickle.dump(vae, file)\n",
    "\n",
    "# close the file\n",
    "file.close()\n",
    "\n",
    "!gsutil mv outputs/scvi_ptbatchcorrect_allgenes.pkl gs://rebecca-summer23/outputs/scvi_ptbatchcorrect_allgenes.pkl"
   ]
  },
  {
   "cell_type": "code",
   "execution_count": null,
   "id": "5d2abca2-6db2-4493-87d4-bc575c4e241a",
   "metadata": {},
   "outputs": [],
   "source": [
    "cd138_adata.obsm[\"X_scvi_ptbatchcorrect_allgenes\"] = vae.get_latent_representation()"
   ]
  },
  {
   "cell_type": "code",
   "execution_count": null,
   "id": "4efc71e8-bfc7-47c6-a3ab-6924cd653845",
   "metadata": {},
   "outputs": [],
   "source": [
    "sc.pp.neighbors(cd138_adata, use_rep=\"X_scvi_ptbatchcorrect_allgenes\")\n",
    "sc.tl.umap(cd138_adata)"
   ]
  },
  {
   "cell_type": "code",
   "execution_count": null,
   "id": "146dc56b-1e68-4894-ae3d-c0d680c0c66b",
   "metadata": {},
   "outputs": [],
   "source": [
    "sc.pl.umap(cd138_adata, color=[\"person\",\"disease_stage\"])"
   ]
  },
  {
   "cell_type": "code",
   "execution_count": null,
   "id": "6c664c3f-e8c5-4e4e-af49-5e636063a395",
   "metadata": {},
   "outputs": [],
   "source": [
    "sc.pl.umap(cd138_adata, color=[\"person\",\"disease_stage\"])"
   ]
  },
  {
   "cell_type": "code",
   "execution_count": null,
   "id": "5d23650a-134f-472b-bc7c-258e2233fde2",
   "metadata": {},
   "outputs": [],
   "source": [
    "sc.pl.umap(cd138_adata, color=['logW3', 'logW4', 'logW5', 'logW8', 'logW9', 'logW11', 'logW16', 'logW20', 'logW24', 'logW28'], ncols=3)"
   ]
  },
  {
   "cell_type": "code",
   "execution_count": null,
   "id": "fc767cd9-46cb-4abc-be7a-73e8ece16e37",
   "metadata": {},
   "outputs": [],
   "source": [
    "sc.pl.umap(cd138_adata, color=\"disease_stage\")"
   ]
  },
  {
   "cell_type": "code",
   "execution_count": null,
   "id": "06361ebf-204e-4678-8535-1f1efa10a11f",
   "metadata": {},
   "outputs": [],
   "source": [
    "sc.pl.umap(cd138_adata, color=['driver event', 'driver_event_specific'])"
   ]
  },
  {
   "cell_type": "code",
   "execution_count": null,
   "id": "d4c68a13-46c5-4680-baae-b772b00ffbbf",
   "metadata": {},
   "outputs": [],
   "source": [
    "from sklearn.metrics import r2_score \n",
    "\n",
    "sig = \"logW24\"\n",
    "\n",
    "r2s = []\n",
    "for i in np.arange(10):\n",
    "    r2s.append(r2_score(cd138_adata.obs[sig], cd138_adata.obsm['X_scvi_batchcorrect_allgenes'][:,i]))\n",
    "#print(np.sum(np.array(r2s)*cd138_adata.uns['pca']['variance'][:n_pcs]))\n",
    "print(np.sum(np.array(r2s)))"
   ]
  },
  {
   "cell_type": "markdown",
   "id": "875581c3-1062-43af-bce9-f756910724eb",
   "metadata": {
    "tags": []
   },
   "source": [
    "# get and format cnv results for input to scVI"
   ]
  },
  {
   "cell_type": "code",
   "execution_count": null,
   "id": "bc1595b5-742c-49c0-9c15-5a18c94f7a26",
   "metadata": {},
   "outputs": [],
   "source": [
    "cnv_genes = pd.read_table(\"gs://rebecca-summer23/outputs/infercnv/cd138/HMM_CNV_predictions.HMMi6.hmm_mode-samples.Pnorm_0.5.pred_cnv_genes.dat\", sep=\"\\t\")"
   ]
  },
  {
   "cell_type": "code",
   "execution_count": null,
   "id": "7160ee0b-ac9d-409f-9749-76a7df539875",
   "metadata": {},
   "outputs": [],
   "source": [
    "# parse sample name\n",
    "cnv_genes['sid'] = [s.split(\".\")[0] for s in cnv_genes.cell_group_name]\n",
    "cnv_genes['sid'] = [s.split(\"_\")[1] for s in cnv_genes.sid]"
   ]
  },
  {
   "cell_type": "raw",
   "id": "7355a7f0-3654-44c3-96a8-0bce31c5c391",
   "metadata": {},
   "source": [
    "state 1 : 0x = complete loss\n",
    "state 2 : 0.5x = loss of one copy\n",
    "state 3 : 1x = neutral\n",
    "state 4 : 1.5x = addition of one copy\n",
    "state 5 : 2x = addition of two copies\n",
    "state 6 : 3x = essentially a placeholder for >2x copies but modeled as 3x."
   ]
  },
  {
   "cell_type": "code",
   "execution_count": null,
   "id": "f40bd6f4-90b2-46dc-b906-174a0563c81e",
   "metadata": {},
   "outputs": [],
   "source": [
    "cnv_genes['dose'] = cnv_genes.state.map({1:0, 2:0.5, 3:1, 4:1.5, 5:2, 6:3})"
   ]
  },
  {
   "cell_type": "code",
   "execution_count": null,
   "id": "53952b4e-e8a6-433a-b9c8-ef65945070bc",
   "metadata": {},
   "outputs": [],
   "source": [
    "#make plot of inferred dosages\n",
    "import matplotlib.pyplot as plt\n",
    "import seaborn as sns\n",
    "plt.rcParams.update({'font.size': 16})\n",
    "sns.barplot(cnv_genes.groupby('dose').count().reset_index(), x=\"dose\", y=\"state\")\n",
    "plt.ylabel(\"counts (# gene-patient pairs)\")\n",
    "plt.xlabel(\"inferred CNV dosage\")"
   ]
  },
  {
   "cell_type": "code",
   "execution_count": null,
   "id": "bd113886-853b-44bf-bfbb-807c341127bd",
   "metadata": {},
   "outputs": [],
   "source": [
    "# how many patients and how many genes have inferred CNVs\n",
    "print(len(cnv_genes.gene.drop_duplicates()))\n",
    "print(len(cnv_genes.sid.drop_duplicates()))"
   ]
  },
  {
   "cell_type": "code",
   "execution_count": null,
   "id": "b25c6847-f968-403f-b174-4e139c6ee7bf",
   "metadata": {},
   "outputs": [],
   "source": [
    "# how many patients and how many genes have inferred CNVs\n",
    "print(len(cnv_genes[cnv_genes.dose!=1].gene.drop_duplicates()))\n",
    "print(len(cnv_genes[cnv_genes.dose!=1].sid.drop_duplicates()))"
   ]
  },
  {
   "cell_type": "code",
   "execution_count": null,
   "id": "ccbe167b-a553-438b-910a-5f129869bd99",
   "metadata": {},
   "outputs": [],
   "source": [
    "cnv_genes['person-gene'] = [cnv_genes.iloc[i].sid + cnv_genes.iloc[i].gene for i in np.arange(len(cnv_genes))]"
   ]
  },
  {
   "cell_type": "code",
   "execution_count": null,
   "id": "0276b971-78e4-49fe-bf65-03f0edfbafeb",
   "metadata": {},
   "outputs": [],
   "source": [
    "# the same gene can be in two different states in the same sample, I guess if the gene spans two regions that have different copy number estimates\n",
    "cnv_genes[cnv_genes['person-gene']==\"MGUS-6MRPL40\"]"
   ]
  },
  {
   "cell_type": "code",
   "execution_count": null,
   "id": "26e31ca6-ffa8-4c3f-8c92-2453a090ac72",
   "metadata": {},
   "outputs": [],
   "source": [
    "#this is not very common, there are 130 gene-sample pairs with duplicates\n",
    "cnv_genes['person-gene'].duplicated().sum()"
   ]
  },
  {
   "cell_type": "code",
   "execution_count": null,
   "id": "f6272210-5265-452e-a230-12e1f9e037e8",
   "metadata": {},
   "outputs": [],
   "source": [
    "# for each of these person-gene pairs that are duplicated, need to choose one row\n",
    "# the doses for this group are either 1, 1.5, or 2.0. Let's be conservative and always keep lower of the doses\n",
    "cnv_genes['dose'] = cnv_genes.groupby('person-gene')['dose'].transform('min')"
   ]
  },
  {
   "cell_type": "code",
   "execution_count": null,
   "id": "d8cca8ac-69ec-43b9-94b9-0e840c70047d",
   "metadata": {},
   "outputs": [],
   "source": [
    "#drop dose=1, since that is the same as the default\n",
    "cnv_genes = cnv_genes[cnv_genes.dose!=1]"
   ]
  },
  {
   "cell_type": "code",
   "execution_count": null,
   "id": "8fe17504-fb5b-400b-8533-77a1504bffe4",
   "metadata": {},
   "outputs": [],
   "source": [
    "# add cell info (in this case, same row will be repeated for all cells in sample since cnvs are sample level)\n",
    "# in order to create sparse matrix, will want cell idx in .obs, so use that here instead of cell name\n",
    "\n",
    "# create df with cell indices\n",
    "cell_idx_df = cd138_adata.obs[['person']].reset_index().rename(columns={'index':'cell'}).drop_duplicates()\n",
    "cell_idx_df['cell_idx'] = np.arange(len(cd138_adata.obs))\n",
    "\n",
    "# merge\n",
    "cnv_array = cell_idx_df.merge(cnv_genes[['sid','gene','dose']].drop_duplicates(), left_on=\"person\", right_on=\"sid\", how=\"inner\")\n",
    "cnv_array"
   ]
  },
  {
   "cell_type": "code",
   "execution_count": null,
   "id": "7809cfbf-056e-4d60-8dfc-7687668435fd",
   "metadata": {},
   "outputs": [],
   "source": [
    "#drop person id which we dont need since CNVs will be used on cell level\n",
    "cnv_array = cnv_array.drop(columns=['person','sid','cell'])\n",
    "cnv_array"
   ]
  },
  {
   "cell_type": "code",
   "execution_count": null,
   "id": "248940c4-1b29-4c11-9260-3b388f2506e6",
   "metadata": {},
   "outputs": [],
   "source": [
    "#convert genes to gene_idx\n",
    "cd138_adata.var['gene_idx'] = np.arange(len(cd138_adata.var))\n",
    "\n",
    "#merge\n",
    "cnv_array = cd138_adata.var[['gene_idx']].reset_index().rename(columns={'index':'gene'}).merge(cnv_array, on=\"gene\", how=\"inner\")"
   ]
  },
  {
   "cell_type": "code",
   "execution_count": null,
   "id": "70e69421-e043-4472-a76e-f546db505488",
   "metadata": {},
   "outputs": [],
   "source": [
    "cnv_array.drop(columns=\"gene\", inplace=True)"
   ]
  },
  {
   "cell_type": "code",
   "execution_count": null,
   "id": "8dc2e409-fae9-4054-b02e-b9434114f5e4",
   "metadata": {},
   "outputs": [],
   "source": [
    "# create sparse matrix\n",
    "from scipy.sparse import coo_array, csr_array\n",
    "\n",
    "cnv_sparse = csr_array((cnv_array.dose, (cnv_array.cell_idx,cnv_array.gene_idx)), shape=cd138_adata.shape)"
   ]
  },
  {
   "cell_type": "code",
   "execution_count": null,
   "id": "c0f58771-0d94-4576-b8b2-a2f6f3515d42",
   "metadata": {},
   "outputs": [],
   "source": [
    "cnv_sparse"
   ]
  },
  {
   "cell_type": "code",
   "execution_count": null,
   "id": "8f1e9dcb-127c-482b-9d69-783ecc96e481",
   "metadata": {},
   "outputs": [],
   "source": [
    "# change default value '0' t0 '1' \n",
    "cnv_sparse.data = cnv_sparse.data-1\n",
    "cnv_array = cnv_sparse.todense() + 1"
   ]
  },
  {
   "cell_type": "code",
   "execution_count": null,
   "id": "54225d18-7ce8-4af9-a528-7149fc724f30",
   "metadata": {},
   "outputs": [],
   "source": [
    "#pickle formatted infercnv results\n",
    "\n",
    "# open a file, where you want to store the data\n",
    "file = open('outputs/cnv_array_cd138.pkl', 'wb')\n",
    "\n",
    "# dump information to that file\n",
    "pickle.dump(cnv_array, file)\n",
    "\n",
    "# close the file\n",
    "file.close()\n",
    "\n",
    "!gsutil mv outputs/cnv_array_cd138.pkl gs://rebecca-summer23/outputs/cnv_array_cd138.pkl"
   ]
  },
  {
   "cell_type": "code",
   "execution_count": null,
   "id": "c64f4567-379d-4a29-976e-cde8a29e3c5b",
   "metadata": {},
   "outputs": [],
   "source": [
    "# read in pickled results\n",
    "!gsutil cp gs://rebecca-summer23/outputs/cnv_array_cd138.pkl /tmp"
   ]
  },
  {
   "cell_type": "code",
   "execution_count": null,
   "id": "5b52ca07-339b-4e17-b2fd-b46ac11f922a",
   "metadata": {},
   "outputs": [],
   "source": [
    "file = open('/tmp/cnv_array_cd138.pkl', 'rb')\n",
    "\n",
    "# dump information to that file\n",
    "cnv_array = pickle.load(file)\n",
    "\n",
    "# close the file\n",
    "file.close()"
   ]
  },
  {
   "cell_type": "markdown",
   "id": "f10d6050-64bf-4d8c-961b-50bf69a4738d",
   "metadata": {},
   "source": [
    "## run PCA on CNVs and pass as continuous covariate"
   ]
  },
  {
   "cell_type": "code",
   "execution_count": null,
   "id": "ceefb417-8683-49ed-abb3-a6b43dd1e52a",
   "metadata": {},
   "outputs": [],
   "source": [
    "cnv_df = pd.DataFrame(cnv_array, index=cd138_adata.obs.index, columns = cd138_adata.var.index)"
   ]
  },
  {
   "cell_type": "code",
   "execution_count": null,
   "id": "38e5f81d-0de0-4442-a3a1-36b9f0d08533",
   "metadata": {},
   "outputs": [],
   "source": [
    "cnv_dense = cnv_df.loc[:,~np.all(cnv_df==1, axis=0)]"
   ]
  },
  {
   "cell_type": "code",
   "execution_count": null,
   "id": "500476e8-02a3-4165-b1e7-532d6d3ced1f",
   "metadata": {},
   "outputs": [],
   "source": [
    "from sklearn.decomposition import PCA\n",
    "pca = PCA(n_components=20)\n",
    "cnv_pc = pca.fit_transform(cnv_dense)"
   ]
  },
  {
   "cell_type": "code",
   "execution_count": null,
   "id": "12b2aa7e-5ccb-4d87-aa8d-273182e57107",
   "metadata": {},
   "outputs": [],
   "source": [
    "#frac explained variance\n",
    "import matplotlib.pyplot as plt\n",
    "plt.plot(np.arange(20)+1, pca.explained_variance_ratio_)"
   ]
  },
  {
   "cell_type": "code",
   "execution_count": null,
   "id": "a3bb28d8-dc93-475a-83c8-f8dac3d7e965",
   "metadata": {},
   "outputs": [],
   "source": [
    "cnv_pc_df = pd.DataFrame(cnv_pc, index=cd138_adata.obs.index, columns = [\"cnv_PC\"+str(i) for i in np.arange(20)+1])"
   ]
  },
  {
   "cell_type": "code",
   "execution_count": null,
   "id": "4aa4a1d1-fbfb-40fb-aa6f-59e689d2b737",
   "metadata": {},
   "outputs": [],
   "source": [
    "cd138_adata.obs = cd138_adata.obs.merge(cnv_pc_df, right_index=True, left_index=True)"
   ]
  },
  {
   "cell_type": "code",
   "execution_count": null,
   "id": "e118512f-d08c-461b-b501-573d4fe738d8",
   "metadata": {},
   "outputs": [],
   "source": [
    "cd138_adata_hvg = cd138_adata[:,cd138_adata.var.highly_variable].copy()"
   ]
  },
  {
   "cell_type": "code",
   "execution_count": null,
   "id": "e46a7365-ba5d-4448-8702-2c7dcb83b652",
   "metadata": {},
   "outputs": [],
   "source": [
    "scvi.model.SCVI.setup_anndata(cd138_adata_hvg, layer=\"counts\", continuous_covariate_keys=[\"cnv_PC\"+str(i) for i in np.arange(5)+1])"
   ]
  },
  {
   "cell_type": "code",
   "execution_count": null,
   "id": "364aa7f5-0100-4e3b-a4b3-926867c986a0",
   "metadata": {},
   "outputs": [],
   "source": [
    "vae = scvi.model.SCVI(cd138_adata_hvg, gene_likelihood='nb')"
   ]
  },
  {
   "cell_type": "code",
   "execution_count": null,
   "id": "c1a9d2c8-e71e-44dd-9f88-47a2f12c9961",
   "metadata": {},
   "outputs": [],
   "source": [
    "vae.train()"
   ]
  },
  {
   "cell_type": "code",
   "execution_count": null,
   "id": "2a2c18fe-0056-4c15-bf2a-b0d3d7aab1ce",
   "metadata": {},
   "outputs": [],
   "source": [
    "#pickle \n",
    "\n",
    "# open a file, where you want to store the data\n",
    "file = open('outputs/scvi_contcnv_cd138_morehvg.pkl', 'wb')\n",
    "\n",
    "# dump information to that file\n",
    "pickle.dump(vae, file)\n",
    "\n",
    "# close the file\n",
    "file.close()\n",
    "\n",
    "#!gsutil mv outputs/cnv_array_cd138.pkl gs://rebecca-summer23/outputs/cnv_array_cd138.pkl"
   ]
  },
  {
   "cell_type": "code",
   "execution_count": null,
   "id": "9685077d-67cd-4443-855e-2076320d7c89",
   "metadata": {},
   "outputs": [],
   "source": [
    "cd138_adata.obsm[\"X_scvi_contcnv\"] = vae.get_latent_representation()"
   ]
  },
  {
   "cell_type": "code",
   "execution_count": null,
   "id": "5f617d28-3d80-4302-bb43-408733b86591",
   "metadata": {},
   "outputs": [],
   "source": [
    "sc.pp.neighbors(cd138_adata, use_rep=\"X_scvi_contcnv\")\n",
    "sc.tl.umap(cd138_adata)\n",
    "sc.pl.umap(cd138_adata, color=[\"person\",\"disease_stage\"])"
   ]
  },
  {
   "cell_type": "code",
   "execution_count": null,
   "id": "c84b7b58-0747-4f09-b87d-f99df91f9b11",
   "metadata": {},
   "outputs": [],
   "source": [
    "sc.pl.umap(cd138_adata, color=['logW3', 'logW4', 'logW5', 'logW8', 'logW9', 'logW11', 'logW16', 'logW20', 'logW24', 'logW28'], ncols=3)"
   ]
  },
  {
   "cell_type": "markdown",
   "id": "a6536d4c-e21a-4dbb-9ced-c29307c0e48c",
   "metadata": {},
   "source": [
    "### Run hotspot analysis on this latent space -- why are the healthies and diseased blobbing together?"
   ]
  },
  {
   "cell_type": "markdown",
   "id": "c71491a2-707b-44f1-a43a-28750fbde6b2",
   "metadata": {},
   "source": [
    "### Why are some healthy samples being split in two?"
   ]
  },
  {
   "cell_type": "markdown",
   "id": "c59be44b-3ee3-4c33-b4fa-d58f00365e65",
   "metadata": {},
   "source": [
    "## run PCA on CNVs and pass as continuous covariate"
   ]
  },
  {
   "cell_type": "code",
   "execution_count": null,
   "id": "39f49e65-a71e-4acd-9807-b1e51c03a7f8",
   "metadata": {},
   "outputs": [],
   "source": [
    "cnv_df = pd.DataFrame(cnv_array, index=cd138_adata.obs.index, columns = cd138_adata.var.index)"
   ]
  },
  {
   "cell_type": "code",
   "execution_count": null,
   "id": "88359630-e4f9-4665-bef8-e1a80080362d",
   "metadata": {},
   "outputs": [],
   "source": [
    "cnv_dense = cnv_df.loc[:,~np.all(cnv_df==1, axis=0)]"
   ]
  },
  {
   "cell_type": "code",
   "execution_count": null,
   "id": "bf85cdd1-b43e-4cd3-b2bc-40dd8ed480b0",
   "metadata": {},
   "outputs": [],
   "source": [
    "from sklearn.decomposition import PCA\n",
    "pca = PCA(n_components=20)\n",
    "cnv_pc = pca.fit_transform(cnv_dense)"
   ]
  },
  {
   "cell_type": "code",
   "execution_count": null,
   "id": "fe3f183a-a8f7-48d6-8629-268648055bfc",
   "metadata": {},
   "outputs": [],
   "source": [
    "#frac explained variance\n",
    "import matplotlib.pyplot as plt\n",
    "plt.plot(np.arange(20)+1, pca.explained_variance_ratio_)"
   ]
  },
  {
   "cell_type": "code",
   "execution_count": null,
   "id": "22f65718-85de-4071-b024-1df715a0c4e5",
   "metadata": {},
   "outputs": [],
   "source": [
    "cnv_pc_df = pd.DataFrame(cnv_pc, index=cd138_adata.obs.index, columns = [\"cnv_PC\"+str(i) for i in np.arange(20)+1])"
   ]
  },
  {
   "cell_type": "code",
   "execution_count": null,
   "id": "c335f3a3-86ff-4b4a-a208-f030de71571a",
   "metadata": {},
   "outputs": [],
   "source": [
    "cd138_adata.obs = cd138_adata.obs.merge(cnv_pc_df, right_index=True, left_index=True)"
   ]
  },
  {
   "cell_type": "code",
   "execution_count": null,
   "id": "b8734f04-2b99-486c-9373-ebbdf3623084",
   "metadata": {},
   "outputs": [],
   "source": [
    "scvi.model.SCVI.setup_anndata(cd138_adata, layer=\"counts\", continuous_covariate_keys=[\"cnv_PC\"+str(i) for i in np.arange(5)+1])"
   ]
  },
  {
   "cell_type": "code",
   "execution_count": null,
   "id": "25e634ad-16e2-492d-963f-3602ef5778db",
   "metadata": {},
   "outputs": [],
   "source": [
    "vae = scvi.model.SCVI(cd138_adata, gene_likelihood='nb')"
   ]
  },
  {
   "cell_type": "code",
   "execution_count": null,
   "id": "c9015d8a-0379-4bd8-a140-f1b575113a0b",
   "metadata": {},
   "outputs": [],
   "source": [
    "vae.train()"
   ]
  },
  {
   "cell_type": "code",
   "execution_count": null,
   "id": "45aff40a-9b43-4845-bf3d-c5acbe15af39",
   "metadata": {},
   "outputs": [],
   "source": [
    "#pickle \n",
    "\n",
    "# open a file, where you want to store the data\n",
    "file = open('outputs/scvi_contcnv_cd138_allgenes.pkl', 'wb')\n",
    "\n",
    "# dump information to that file\n",
    "pickle.dump(vae, file)\n",
    "\n",
    "# close the file\n",
    "file.close()\n",
    "\n",
    "!gsutil mv outputs/scvi_contcnv_cd138_allgenes.pkl gs://rebecca-summer23/outputs/scvi_contcnv_cd138_allgenes.pkl"
   ]
  },
  {
   "cell_type": "code",
   "execution_count": null,
   "id": "ff8501e0-c2ff-402f-b98a-24dbd304c46a",
   "metadata": {},
   "outputs": [],
   "source": [
    "!gsutil cp gs://rebecca-summer23/outputs/scvi_contcnv_cd138_allgenes.pkl /tmp/scvi_contcnv_cd138_allgenes.pkl "
   ]
  },
  {
   "cell_type": "code",
   "execution_count": null,
   "id": "f6280ac7-7ed7-49be-a8de-731999075190",
   "metadata": {},
   "outputs": [],
   "source": [
    "#pickle \n",
    "\n",
    "# open a file, where you want to store the data\n",
    "file = open('tmp/scvi_contcnv_cd138_allgenes.pkl', 'rb')\n",
    "\n",
    "# dump information to that file\n",
    "vae_cnvcont_allgenes = pickle.load(file)\n",
    "\n",
    "# close the file\n",
    "file.close()"
   ]
  },
  {
   "cell_type": "code",
   "execution_count": null,
   "id": "4ff78fe0-473c-4ada-b69f-bb82ab2caeb0",
   "metadata": {},
   "outputs": [],
   "source": [
    "#pickle \n",
    "\n",
    "# open a file, where you want to store the data\n",
    "file = open('tmp/scvi_contcnv_cd138_allgenes.pkl', 'rb')\n",
    "\n",
    "# dump information to that file\n",
    "vae_cnvcont_allgenes = pickle.load(file)\n",
    "\n",
    "# close the file\n",
    "file.close()"
   ]
  },
  {
   "cell_type": "code",
   "execution_count": null,
   "id": "d93a3a4e-8e4a-4ebf-9622-02dad9ea2d47",
   "metadata": {},
   "outputs": [],
   "source": [
    "cd138_adata.obsm[\"X_scvi_contcnv_allgenes\"] = vae.get_latent_representation()"
   ]
  },
  {
   "cell_type": "code",
   "execution_count": null,
   "id": "499172fb-db13-4762-810d-17a555a7bca1",
   "metadata": {},
   "outputs": [],
   "source": [
    "cd138_adata"
   ]
  },
  {
   "cell_type": "code",
   "execution_count": null,
   "id": "1af4f740-94b1-4b99-9b2b-594cd168c06a",
   "metadata": {},
   "outputs": [],
   "source": [
    "sc.pp.neighbors(cd138_adata, use_rep=\"X_scvi_contcnv_allgenes\")\n",
    "sc.tl.umap(cd138_adata)\n",
    "sc.pl.umap(cd138_adata, color=[\"person\",\"disease_stage\"])"
   ]
  },
  {
   "cell_type": "code",
   "execution_count": null,
   "id": "4b545ac7-2491-4477-94b0-93ab7eefc56c",
   "metadata": {},
   "outputs": [],
   "source": [
    "sc.pp.neighbors(cd138_adata, use_rep=\"X_scvi_contcnv_allgenes\")\n",
    "sc.tl.umap(cd138_adata)\n",
    "sc.pl.umap(cd138_adata, color=[\"person\",\"disease_stage\"])"
   ]
  },
  {
   "cell_type": "code",
   "execution_count": null,
   "id": "da7a87fb-004b-4ece-80ba-af5865b70480",
   "metadata": {},
   "outputs": [],
   "source": [
    "sc.pl.umap(cd138_adata, color=['logW3', 'logW4', 'logW5', 'logW8', 'logW9', 'logW11', 'logW16', 'logW20', 'logW24', 'logW28'], ncols=3)"
   ]
  },
  {
   "cell_type": "markdown",
   "id": "5546cb5c-2a8e-4630-b8fe-3cd6289fd376",
   "metadata": {},
   "source": [
    "## run scvi with dosage correction passing in cnv matrix"
   ]
  },
  {
   "cell_type": "code",
   "execution_count": null,
   "id": "dca5a041-4b50-4f10-8d5d-846f8642ed54",
   "metadata": {},
   "outputs": [],
   "source": [
    "cd138_adata.obsm['cnv'] = cnv_array"
   ]
  },
  {
   "cell_type": "code",
   "execution_count": null,
   "id": "ac50dcc0-c503-4c41-be15-cd47d1e84469",
   "metadata": {},
   "outputs": [],
   "source": [
    "scvi.model.SCVI.setup_anndata(cd138_adata, layer=\"counts\", cnv_key=\"cnv\")"
   ]
  },
  {
   "cell_type": "code",
   "execution_count": null,
   "id": "5c68a38c-8b76-452e-9447-2730fdcb16e5",
   "metadata": {},
   "outputs": [],
   "source": [
    "vae = scvi.model.SCVI(cd138_adata, gene_likelihood='nb')"
   ]
  },
  {
   "cell_type": "code",
   "execution_count": null,
   "id": "0b4c5ccb-803a-4e62-b927-dce076a12844",
   "metadata": {},
   "outputs": [],
   "source": [
    "vae.train()"
   ]
  },
  {
   "cell_type": "code",
   "execution_count": null,
   "id": "ce89585a-f904-4d93-89fa-1ff4c3a16805",
   "metadata": {},
   "outputs": [],
   "source": [
    "cd138_adata.obsm[\"X_scvi_cnv\"] = vae.get_latent_representation()"
   ]
  },
  {
   "cell_type": "code",
   "execution_count": null,
   "id": "89d786e9-e6ce-40b9-ab31-29cb5a968e89",
   "metadata": {},
   "outputs": [],
   "source": [
    "# passing in cnv -- not qualitatively different\n",
    "sc.pp.neighbors(cd138_adata, use_rep=\"X_scvi_cnv\")\n",
    "sc.tl.umap(cd138_adata)\n",
    "sc.pl.umap(cd138_adata, color=\"person\")"
   ]
  },
  {
   "cell_type": "code",
   "execution_count": null,
   "id": "b30cd19e-340d-4ac5-9c89-8da1734b3018",
   "metadata": {
    "tags": []
   },
   "outputs": [],
   "source": [
    "sc.pl.umap(cd138_adata, color=\"disease_stage\")"
   ]
  },
  {
   "cell_type": "code",
   "execution_count": null,
   "id": "0efabd47-1fd3-4cc4-9a31-134bf67753da",
   "metadata": {},
   "outputs": [],
   "source": [
    "#pickle scvi results\n",
    "\n",
    "# open a file, where you ant to store the data\n",
    "file = open('outputs/cnv_dosage_scvi_cd138.pkl', 'wb')\n",
    "\n",
    "# dump information to that file\n",
    "pickle.dump(vae, file)\n",
    "\n",
    "# close the file\n",
    "file.close()\n"
   ]
  },
  {
   "cell_type": "code",
   "execution_count": null,
   "id": "e54a833e-3324-444e-b3d1-7b9d616c573c",
   "metadata": {},
   "outputs": [],
   "source": [
    "!gsutil mv outputs/cnv_dosage_scvi_cd138.pkl gs://rebecca-summer23/outputs/cnv_dosage_scvi_cd138.pkl"
   ]
  },
  {
   "cell_type": "code",
   "execution_count": null,
   "id": "e88014cf-d4ef-4314-bba6-9c27f04c59d2",
   "metadata": {},
   "outputs": [],
   "source": []
  }
 ],
 "metadata": {
  "kernelspec": {
   "display_name": "scvi",
   "language": "python",
   "name": "scvi"
  },
  "language_info": {
   "codemirror_mode": {
    "name": "ipython",
    "version": 3
   },
   "file_extension": ".py",
   "mimetype": "text/x-python",
   "name": "python",
   "nbconvert_exporter": "python",
   "pygments_lexer": "ipython3",
   "version": "3.9.16"
  }
 },
 "nbformat": 4,
 "nbformat_minor": 5
}
