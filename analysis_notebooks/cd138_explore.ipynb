{
 "cells": [
  {
   "cell_type": "code",
   "execution_count": null,
   "id": "daee1313-57d6-474e-9ee0-6b064c4bdc26",
   "metadata": {},
   "outputs": [],
   "source": [
    "import torch"
   ]
  },
  {
   "cell_type": "code",
   "execution_count": null,
   "id": "41ed89b5-5d1e-427f-948d-f24eac4a69b9",
   "metadata": {},
   "outputs": [],
   "source": [
    "%env CUDA_VISIBLE_DEVICES=0\n",
    "torch.cuda.is_available()"
   ]
  },
  {
   "cell_type": "code",
   "execution_count": null,
   "id": "74241cc7-4bf7-43fd-8a55-d6d91e225717",
   "metadata": {},
   "outputs": [],
   "source": [
    "import scvi"
   ]
  },
  {
   "cell_type": "code",
   "execution_count": null,
   "id": "0a03208d-8836-4440-8d12-ba35ffb3b1a9",
   "metadata": {},
   "outputs": [],
   "source": [
    "import scanpy as sc\n",
    "import numpy as np\n",
    "import pandas as pd\n",
    "import hotspot\n",
    "import pickle\n",
    "import seaborn as sns\n"
   ]
  },
  {
   "cell_type": "markdown",
   "id": "6f9a1b02-8500-4492-898e-67fa04a1582d",
   "metadata": {},
   "source": [
    "## load Boiarsky et al MM data"
   ]
  },
  {
   "cell_type": "code",
   "execution_count": null,
   "id": "bb3c18f1-f127-423d-8dad-7aa393dc6f9f",
   "metadata": {},
   "outputs": [],
   "source": [
    "!gsutil cp gs://rebecca-summer23/cd138_adata_MOREHVG_noIG.h5ad /tmp"
   ]
  },
  {
   "cell_type": "code",
   "execution_count": null,
   "id": "c3af2dbd-7cf4-4c73-9020-1f110e7bf07f",
   "metadata": {},
   "outputs": [],
   "source": [
    "cd138_adata = sc.read_h5ad(\"/tmp/cd138_adata_MOREHVG_noIG.h5ad\")"
   ]
  },
  {
   "cell_type": "code",
   "execution_count": null,
   "id": "7aee4c9c-5583-4e2a-918f-76e6b1b8d204",
   "metadata": {},
   "outputs": [],
   "source": [
    "sc.pl.umap(cd138_adata, color=[\"logW20\",\"logW24\"])"
   ]
  },
  {
   "cell_type": "markdown",
   "id": "50ffa67c-7bfc-45a2-95c5-0a2fa59e0beb",
   "metadata": {},
   "source": [
    "# compute UMAP on the basis of the 15 NMF modules"
   ]
  },
  {
   "cell_type": "code",
   "execution_count": null,
   "id": "e0814bc5-03fd-45ec-ac0c-7e7becb6bac0",
   "metadata": {},
   "outputs": [],
   "source": [
    "cd138_adata.obsm['X_nmf'] = cd138_adata.obs.loc[:,['W'+str(i) for i in [3,4,5,8,9,11,16,20,24,28]]]"
   ]
  },
  {
   "cell_type": "code",
   "execution_count": null,
   "id": "a8399f18-b983-4956-9a9c-ecbeae8eb0fa",
   "metadata": {},
   "outputs": [],
   "source": [
    "sc.pp.neighbors(cd138_adata, use_rep=\"X_nmf\")\n",
    "sc.tl.umap(cd138_adata)"
   ]
  },
  {
   "cell_type": "code",
   "execution_count": null,
   "id": "2201148b-8d87-43d4-9c0d-b4af398ecc51",
   "metadata": {},
   "outputs": [],
   "source": [
    "sc.pl.umap(cd138_adata, color=[\"person\",\"disease_stage\"])"
   ]
  },
  {
   "cell_type": "code",
   "execution_count": null,
   "id": "042add81-1f7c-42bb-904e-8acc0912f88b",
   "metadata": {},
   "outputs": [],
   "source": [
    "sc.pl.umap(cd138_adata, color=['logW'+str(i) for i in [3,4,5,8,9,11,16,20,24,28]], ncols=2, size=12)"
   ]
  },
  {
   "cell_type": "markdown",
   "id": "2edcbbc5-995f-4160-8ec3-ed00b48185fd",
   "metadata": {},
   "source": [
    "# compute UMAP on the basis of all NMF modules"
   ]
  },
  {
   "cell_type": "code",
   "execution_count": null,
   "id": "555a6178-5b05-4d00-8663-1169a5121885",
   "metadata": {},
   "outputs": [],
   "source": [
    "cd138_adata.obsm['X_nmf'] = cd138_adata.obs.loc[:,['W'+str(i) for i in np.arange(28)+1]]"
   ]
  },
  {
   "cell_type": "code",
   "execution_count": null,
   "id": "507c2e32-e955-4723-9939-a25f35c3df9a",
   "metadata": {},
   "outputs": [],
   "source": [
    "sc.pp.neighbors(cd138_adata, use_rep=\"X_nmf\")\n",
    "sc.tl.umap(cd138_adata)"
   ]
  },
  {
   "cell_type": "code",
   "execution_count": null,
   "id": "b796876d-5c47-4b00-a520-c796ae6900a8",
   "metadata": {},
   "outputs": [],
   "source": [
    "sc.pl.umap(cd138_adata, color=[\"person\",\"disease_stage\"])"
   ]
  },
  {
   "cell_type": "code",
   "execution_count": null,
   "id": "65dfc19d-d4bc-489e-9197-bd339e183e98",
   "metadata": {},
   "outputs": [],
   "source": [
    "sc.pl.umap(cd138_adata, color=['logW'+str(i) for i in [3,4,5,8,9,11,16,20,24,28]], ncols=2, size=12)"
   ]
  },
  {
   "cell_type": "markdown",
   "id": "f51548c0-a34e-4ad0-b44b-81f29b74d911",
   "metadata": {
    "tags": []
   },
   "source": [
    "## get CNV info (inferCNV), annotate genes that are in amplified or deleted regions"
   ]
  },
  {
   "cell_type": "markdown",
   "id": "e5dd1209-50e1-44d8-84e5-ec019b9f84bf",
   "metadata": {
    "tags": []
   },
   "source": [
    "### write necessary input files to infercnv to disk (gene pos file created in R)"
   ]
  },
  {
   "cell_type": "markdown",
   "id": "ed024183-88e1-4d6d-815d-8f1a3c2f7f47",
   "metadata": {},
   "source": [
    "#### counts file"
   ]
  },
  {
   "cell_type": "code",
   "execution_count": null,
   "id": "6ee5f13c-9756-42a0-9872-ed2530a916ca",
   "metadata": {},
   "outputs": [],
   "source": [
    "pd.DataFrame(cd138_adata.layers['counts'].todense(), index = cd138_adata.obs.index, columns = cd138_adata.var.index).T.rename_axis(None, axis=1).to_csv(\"data/infercnv_input_files/cd138_mm/counts.txt\", sep=\"\\t\")"
   ]
  },
  {
   "cell_type": "markdown",
   "id": "f9dc389f-6169-44cd-a1ca-f419ed0a0f5c",
   "metadata": {},
   "source": [
    "#### sample annotation file"
   ]
  },
  {
   "cell_type": "code",
   "execution_count": null,
   "id": "4740a56b-ba83-443a-9238-0345ad71fae6",
   "metadata": {},
   "outputs": [],
   "source": [
    "pd.DataFrame(cd138_adata[~pd.isna(cd138_adata.obs.ground_truth)].obs['ground_truth'].astype(\"str\") +\"_\" + cd138_adata[~pd.isna(cd138_adata.obs.ground_truth)].obs['person'].astype(\"str\")).reset_index().to_csv(\"data/infercnv_input_files/cd138_mm/cell_annots.txt\", sep=\"\\t\", header=False, index=False)\n"
   ]
  },
  {
   "cell_type": "code",
   "execution_count": null,
   "id": "a84cd7e4-d845-43f6-8680-af71080352b1",
   "metadata": {},
   "outputs": [],
   "source": [
    "#get list of normals to pass into infercnv function in R \n",
    "normals = list(pd.Series(cd138_adata[~pd.isna(cd138_adata.obs.ground_truth)].obs['ground_truth'].astype(\"str\") +\"_\" + cd138_adata[~pd.isna(cd138_adata.obs.ground_truth)].obs['person'].astype(\"str\")).drop_duplicates())\n",
    "normals = [n for n in normals if \"healthy\" in n]\n",
    "normals\n"
   ]
  },
  {
   "cell_type": "code",
   "execution_count": null,
   "id": "dcd2021f-a442-4e3a-8b4e-04cd66aa363b",
   "metadata": {},
   "outputs": [],
   "source": [
    "#ncells = 1000 \n",
    "pt_list = [\"MM-1\",\"MM-2\",\"SMM-3\",\"NBM-10\",\"SMM-8\"]\n",
    "\n",
    "#make a small version of file for infercnv with ncells\n",
    "small_counts = pd.DataFrame(cd138_adata[cd138_adata.obs.person.isin(pt_list)].layers['counts'].todense(), index = cd138_adata.obs.index[cd138_adata.obs.person.isin(pt_list)], columns = cd138_adata.var.index).T.rename_axis(None, axis=1)\n",
    "small_counts.to_csv(\"data/infercnv_input_files/cd138_mm/small_counts.txt\", sep=\"\\t\")"
   ]
  },
  {
   "cell_type": "code",
   "execution_count": null,
   "id": "0b745831-736c-4170-a3d3-4f056fb16313",
   "metadata": {},
   "outputs": [],
   "source": [
    "#small sample annots\n",
    "small_cell_annots = pd.DataFrame(cd138_adata[cd138_adata.obs.index.isin(small_counts.columns)].obs['ground_truth'].astype(\"str\") +\"_\" + cd138_adata[cd138_adata.obs.index.isin(small_counts.columns)].obs['person'].astype(\"str\")).reset_index()\n",
    "small_cell_annots.to_csv(\"data/infercnv_input_files/cd138_mm/small_cell_annots.txt\", sep=\"\\t\", header=False, index=False)"
   ]
  },
  {
   "cell_type": "code",
   "execution_count": null,
   "id": "7cda446f-d329-45a7-bf25-f47df0a3fd8a",
   "metadata": {},
   "outputs": [],
   "source": [
    "#get list of normals to pass into infercnv function in R \n",
    "small_normals = list(pd.Series(cd138_adata[cd138_adata.obs.index.isin(small_counts.columns)].obs['ground_truth'].astype(\"str\") +\"_\" + cd138_adata[cd138_adata.obs.index.isin(small_counts.columns)].obs['person'].astype(\"str\")).drop_duplicates())\n",
    "small_normals = [n for n in small_normals if \"healthy\" in n]\n",
    "small_normals\n"
   ]
  },
  {
   "cell_type": "code",
   "execution_count": null,
   "id": "fc104ee2-8a8b-47aa-9253-ccf67ca7f5ef",
   "metadata": {},
   "outputs": [],
   "source": [
    "small_cell_annots.iloc[:,1].value_counts()"
   ]
  },
  {
   "cell_type": "code",
   "execution_count": null,
   "id": "7638d817-352e-41cc-b511-e36984be5d79",
   "metadata": {},
   "outputs": [],
   "source": [
    "len(small_cell_annots)"
   ]
  },
  {
   "cell_type": "markdown",
   "id": "3e9f08be-89c7-408a-916a-30522b3e32f2",
   "metadata": {},
   "source": [
    "## run vanilla scVI "
   ]
  },
  {
   "cell_type": "code",
   "execution_count": null,
   "id": "0581dfd4-b54f-4585-b040-dfd0446a945c",
   "metadata": {},
   "outputs": [],
   "source": [
    "scvi.model.SCVI.setup_anndata(cd138_adata, layer=\"counts\")"
   ]
  },
  {
   "cell_type": "code",
   "execution_count": null,
   "id": "8cdd920a-2399-43cd-a52f-9a1fb521288b",
   "metadata": {},
   "outputs": [],
   "source": [
    "vae = scvi.model.SCVI(cd138_adata, gene_likelihood='nb')"
   ]
  },
  {
   "cell_type": "code",
   "execution_count": null,
   "id": "4190fefd-f490-48b8-bff7-34d5bfaedd74",
   "metadata": {},
   "outputs": [],
   "source": [
    "vae.train()"
   ]
  },
  {
   "cell_type": "code",
   "execution_count": null,
   "id": "b6c13b51-521a-4f53-982a-178c898f7139",
   "metadata": {},
   "outputs": [],
   "source": [
    "#pickle scvi results\n",
    "\n",
    "# open a file, where you ant to store the data\n",
    "file = open('outputs/vanilla_scvi_cd138.pkl', 'wb')\n",
    "\n",
    "# dump information to that file\n",
    "pickle.dump(vae, file)\n",
    "\n",
    "# close the file\n",
    "file.close()\n"
   ]
  },
  {
   "cell_type": "code",
   "execution_count": null,
   "id": "d9eba90c-91b1-4f42-bf71-7fe8e4242b90",
   "metadata": {},
   "outputs": [],
   "source": [
    "!gsutil cp gs://rebecca-summer23/outputs/vanilla_scvi_cd138.pkl /tmp"
   ]
  },
  {
   "cell_type": "code",
   "execution_count": null,
   "id": "a104702f-033b-4790-80e4-a44a92991dac",
   "metadata": {},
   "outputs": [],
   "source": [
    "# read pickled scvi results\n",
    "\n",
    "file = open('/tmp/vanilla_scvi_cd138.pkl', 'rb')\n",
    "\n",
    "# dump information to that file\n",
    "vae = pickle.load(file)\n",
    "\n",
    "# close the file\n",
    "file.close()"
   ]
  },
  {
   "cell_type": "code",
   "execution_count": null,
   "id": "19a5b77b-0f96-4681-b402-eac3296b74a6",
   "metadata": {},
   "outputs": [],
   "source": [
    "cd138_adata.obsm[\"X_scvi\"] = vae.get_latent_representation()"
   ]
  },
  {
   "cell_type": "code",
   "execution_count": null,
   "id": "500a4cb9-5f34-4f5e-8851-b9a580ca099e",
   "metadata": {},
   "outputs": [],
   "source": [
    "#save original UMAP\n",
    "cd138_adata.obsm[\"X_umap_pca-based\"] = cd138_adata.obsm['X_umap']"
   ]
  },
  {
   "cell_type": "code",
   "execution_count": null,
   "id": "4ed654f7-6a98-4936-be7c-e7f58580f1a6",
   "metadata": {},
   "outputs": [],
   "source": [
    "sc.pp.neighbors(cd138_adata, use_rep=\"X_scvi\")\n",
    "sc.tl.umap(cd138_adata)\n",
    "sc.pl.umap(cd138_adata, color=\"person\")"
   ]
  },
  {
   "cell_type": "code",
   "execution_count": null,
   "id": "1e8bff22-169a-4591-8a63-ce0a14e78dc9",
   "metadata": {},
   "outputs": [],
   "source": [
    "sc.pl.umap(cd138_adata, color=[\"ground_truth\", \"disease_stage\", \"prolif_idx\"])"
   ]
  },
  {
   "cell_type": "code",
   "execution_count": null,
   "id": "23c6b419-00cb-44fe-88f9-9272cf19c266",
   "metadata": {},
   "outputs": [],
   "source": [
    "sc.pl.embedding(cd138_adata, basis=\"X_umap_pca-based\", color=[\"ground_truth\", \"disease_stage\", \"prolif_idx\"])"
   ]
  },
  {
   "cell_type": "markdown",
   "id": "942b27fd-c307-4eae-abdb-b215fe33a6d8",
   "metadata": {},
   "source": [
    "#### differential expression"
   ]
  },
  {
   "cell_type": "code",
   "execution_count": null,
   "id": "520a8a4f-3db0-4b71-986b-17cf1696252d",
   "metadata": {},
   "outputs": [],
   "source": [
    "scvi_de = vae.differential_expression(adata=cd138_adata, groupby=\"person\", group1=None, idx2=cd138_adata.obs.disease_stage==\"NBM\", \n",
    "                                      mode='change', delta=0.25, batch_size=None, all_stats=True, batch_correction=False, batchid1=None, batchid2=None, fdr_target=0.05, silent=False, weights='uniform', filter_outlier_cells=False)"
   ]
  },
  {
   "cell_type": "code",
   "execution_count": null,
   "id": "c743a808-519c-4877-80b9-23225b584547",
   "metadata": {},
   "outputs": [],
   "source": [
    "scvi_de = scvi_de[scvi_de['is_de_fdr_0.05']]"
   ]
  },
  {
   "cell_type": "code",
   "execution_count": null,
   "id": "e2a389f1-9853-45ab-bf48-1d8539bdeafa",
   "metadata": {},
   "outputs": [],
   "source": [
    "scvi_de[scvi_de.group1==\"MM-8\"]"
   ]
  },
  {
   "cell_type": "code",
   "execution_count": null,
   "id": "eeaf888a-6d81-4a8e-93d4-54828dbfae24",
   "metadata": {},
   "outputs": [],
   "source": []
  },
  {
   "cell_type": "markdown",
   "id": "20f9f57b-4093-4ba4-9c18-0e1a0b4faa0c",
   "metadata": {
    "tags": []
   },
   "source": [
    "## inspect latent space: hotspot analysis"
   ]
  },
  {
   "cell_type": "code",
   "execution_count": null,
   "id": "34e9301c-0f58-4da5-9533-199f98936b0a",
   "metadata": {},
   "outputs": [],
   "source": [
    "#filter to hvg\n",
    "cd138_adata_hvg = cd138_adata[:,cd138_adata.var.highly_variable]\n",
    "cd138_adata_hvg.layers['counts'] = cd138_adata.layers['counts'][:,cd138_adata.var.highly_variable]"
   ]
  },
  {
   "cell_type": "code",
   "execution_count": null,
   "id": "679a9524-7eeb-41d7-a847-4db4176e18bd",
   "metadata": {},
   "outputs": [],
   "source": [
    "hs = hotspot.Hotspot(\n",
    "    cd138_adata_hvg,\n",
    "    layer_key=\"counts\",\n",
    "    model='danb',\n",
    "    latent_obsm_key=\"X_scvi\"\n",
    ")"
   ]
  },
  {
   "cell_type": "code",
   "execution_count": null,
   "id": "2a34c577-2f8d-43a1-a87a-d3f3122d2a15",
   "metadata": {},
   "outputs": [],
   "source": [
    "hs.create_knn_graph(weighted_graph=True, n_neighbors=50)"
   ]
  },
  {
   "cell_type": "code",
   "execution_count": null,
   "id": "96d0c516-6225-4031-b5c5-734e4cc0417e",
   "metadata": {},
   "outputs": [],
   "source": [
    "hs_results = hs.compute_autocorrelations()"
   ]
  },
  {
   "cell_type": "code",
   "execution_count": null,
   "id": "d683077a-5fb8-478b-801c-b2903ebfafb1",
   "metadata": {},
   "outputs": [],
   "source": [
    "#pickle hotspot results\n",
    "\n",
    "# open a file, where you ant to store the data\n",
    "file = open('outputs/hotspot_vanilla_scvi_cd138.pkl', 'wb')\n",
    "\n",
    "# dump information to that file\n",
    "pickle.dump(hs, file)\n",
    "\n",
    "# close the file\n",
    "file.close()\n"
   ]
  },
  {
   "cell_type": "code",
   "execution_count": null,
   "id": "bfc92842-c765-4a2a-9b10-9fd4cc508d93",
   "metadata": {},
   "outputs": [],
   "source": [
    "# read pickled hotspot results\n",
    "\n",
    "file = open('outputs/hotspot_vanilla_scvi_cd138.pkl', 'rb')\n",
    "\n",
    "# dump information to that file\n",
    "hs = pickle.load(file)\n",
    "\n",
    "# close the file\n",
    "file.close()"
   ]
  },
  {
   "cell_type": "code",
   "execution_count": null,
   "id": "be3aa48a-16a7-4179-bceb-ff0c7ac1b861",
   "metadata": {},
   "outputs": [],
   "source": [
    "hs_genes = hs.results.loc[hs.results.FDR < 0.05].index # Select genes #1e-323 seems to be some hardcoded floor on the FDR, if move threshold lower than that there are 0 genes\n",
    "len(hs_genes)"
   ]
  },
  {
   "cell_type": "code",
   "execution_count": null,
   "id": "c672ef4e-4d6a-4f24-a6bf-698917988950",
   "metadata": {},
   "outputs": [],
   "source": [
    "local_correlations = hs.compute_local_correlations(hs_genes, jobs=12) # jobs for parallelization"
   ]
  },
  {
   "cell_type": "code",
   "execution_count": null,
   "id": "3d500e9e-4068-4ddf-b533-d71e83f2d20e",
   "metadata": {},
   "outputs": [],
   "source": [
    "#pickle hotspot results\n",
    "\n",
    "# open a file, where you ant to store the data\n",
    "file = open('outputs/hotspot_vanilla_scvi_cd138.pkl', 'wb')\n",
    "\n",
    "# dump information to that file\n",
    "pickle.dump(hs, file)\n",
    "\n",
    "# close the file\n",
    "file.close()\n"
   ]
  },
  {
   "cell_type": "code",
   "execution_count": null,
   "id": "f7bc705f-5d7c-45cb-a0ad-0b86e90cbde1",
   "metadata": {},
   "outputs": [],
   "source": [
    "# read pickled hotspot results\n",
    "\n",
    "file = open('outputs/hotspot_vanilla_scvi_cd138.pkl', 'rb')\n",
    "\n",
    "# dump information to that file\n",
    "hs = pickle.load(file)\n",
    "\n",
    "# close the file\n",
    "file.close()"
   ]
  },
  {
   "cell_type": "code",
   "execution_count": null,
   "id": "4c215bfc-9d1c-4e43-ac00-ba637809993e",
   "metadata": {},
   "outputs": [],
   "source": [
    "modules = hs.create_modules(min_gene_threshold=30, core_only=True, fdr_threshold=0.05)"
   ]
  },
  {
   "cell_type": "code",
   "execution_count": null,
   "id": "65e412ad-e08e-4595-bde9-32bf17d92b62",
   "metadata": {},
   "outputs": [],
   "source": [
    "hs.plot_local_correlations()"
   ]
  },
  {
   "cell_type": "code",
   "execution_count": null,
   "id": "f079319b-f642-46d5-ad75-f6ac1a5e22b8",
   "metadata": {},
   "outputs": [],
   "source": [
    "module_scores = hs.calculate_module_scores()"
   ]
  },
  {
   "cell_type": "code",
   "execution_count": null,
   "id": "4ad4d215-27a7-4760-be57-155c2303ec63",
   "metadata": {},
   "outputs": [],
   "source": [
    "#plot module score on UMAP\n",
    "cd138_adata.obsm[\"hotspot_module_scores\"] = module_scores"
   ]
  },
  {
   "cell_type": "code",
   "execution_count": null,
   "id": "07d85191-a295-4fe9-999e-96573f93c39b",
   "metadata": {},
   "outputs": [],
   "source": [
    "module_scores.columns = [\"hs_mod_\"+str(c) for c in module_scores.columns]\n",
    "module_scores.head()"
   ]
  },
  {
   "cell_type": "code",
   "execution_count": null,
   "id": "4f74eb46-3f46-4f01-9807-a0b0b7d4f3f8",
   "metadata": {},
   "outputs": [],
   "source": [
    "cd138_adata.obs = cd138_adata.obs.merge(module_scores, left_index=True, right_index=True)"
   ]
  },
  {
   "cell_type": "code",
   "execution_count": null,
   "id": "1e3800b7-751d-4e7e-b04d-c90eac15bbaf",
   "metadata": {},
   "outputs": [],
   "source": [
    "#UMAP BASED ON PCA (orig from paper)\n",
    "sc.pl.embedding(cd138_adata, basis=\"X_umap_pca-based\", color=module_scores.columns)"
   ]
  },
  {
   "cell_type": "code",
   "execution_count": null,
   "id": "3d7135d1-ac89-41d3-80d0-21169da3d437",
   "metadata": {},
   "outputs": [],
   "source": [
    "#UMAP BASED ON scvi\n",
    "sc.pl.umap(cd138_adata, color=module_scores.columns)"
   ]
  },
  {
   "cell_type": "markdown",
   "id": "195feebd-7457-4454-87bb-9195a6b1b15b",
   "metadata": {},
   "source": [
    "### quantify extent of overlap b/w hotspot genes and CNV genes"
   ]
  },
  {
   "cell_type": "code",
   "execution_count": null,
   "id": "7eb7db3b-e1e7-4037-9af1-afd021308426",
   "metadata": {},
   "outputs": [],
   "source": [
    "gtf = pd.read_table(\"data/infercnv_input_files/cd138_mm/gene_pos.txt\", header=None)\n",
    "gtf.columns = [\"gene\",\"chrom\",\"start\",\"end\"]"
   ]
  },
  {
   "cell_type": "code",
   "execution_count": null,
   "id": "80c3d64a-a7c9-4c69-9b44-bd77796a713d",
   "metadata": {},
   "outputs": [],
   "source": [
    "gtf"
   ]
  },
  {
   "cell_type": "code",
   "execution_count": null,
   "id": "2a7e16ca-8e38-448e-b32f-750758564abe",
   "metadata": {},
   "outputs": [],
   "source": [
    "#UMAP BASED ON PCA (orig from paper)\n",
    "sc.pl.umap(cd138_adata, color=\"person\", legend_loc=\"on data\")"
   ]
  },
  {
   "cell_type": "code",
   "execution_count": null,
   "id": "832fbcd3-2462-4b79-b97b-3f79ee9059b6",
   "metadata": {},
   "outputs": [],
   "source": [
    "#UMAP BASED ON PCA (orig from paper)\n",
    "sc.pl.umap(cd138_adata, color=\"person\")"
   ]
  },
  {
   "cell_type": "markdown",
   "id": "2d64d886-0dd3-42e2-9424-7a6576989bd2",
   "metadata": {
    "tags": []
   },
   "source": [
    "### SMM7 is mod 9, acc to FISH and inferCNV has monosomy 13 -- which chromosomes are hotspot module 9 genes from? (histogram)"
   ]
  },
  {
   "cell_type": "code",
   "execution_count": null,
   "id": "6744bac9-7a2a-4d8d-a35b-3fbd818d35bb",
   "metadata": {},
   "outputs": [],
   "source": [
    "mod=9\n",
    "\n",
    "res = pd.DataFrame(gtf[gtf.gene.isin(hs.modules[hs.modules==mod].index)].chrom.value_counts().reset_index()) # no enrichment for chromosome 13\n",
    "res.chrom = pd.Categorical(res.chrom, categories=[str(i) for i in np.arange(22)+1] + [\"X\", \"Y\"], ordered=True)\n",
    "sns.barplot(data=res.sort_values(\"chrom\"), x=\"chrom\", y=\"count\")"
   ]
  },
  {
   "cell_type": "markdown",
   "id": "37481388-6cbe-456c-b219-c88b20829e7a",
   "metadata": {},
   "source": [
    "### MM1 is mod 4, acc to FISH has  acc to FISH has t(4;14), 1q duplication, monosomy 13.; inferCNV has lots of other stuff going on too"
   ]
  },
  {
   "cell_type": "code",
   "execution_count": null,
   "id": "a7c7cfa7-f223-44f4-ab88-55d16e943ba9",
   "metadata": {},
   "outputs": [],
   "source": [
    "mod=4\n",
    "\n",
    "res = pd.DataFrame(gtf[gtf.gene.isin(hs.modules[hs.modules==mod].index)].chrom.value_counts().reset_index()) # no enrichment for chromosome 13\n",
    "res.chrom = pd.Categorical(res.chrom, categories=[str(i) for i in np.arange(22)+1] + [\"X\", \"Y\"], ordered=True)\n",
    "sns.barplot(data=res.sort_values(\"chrom\"), x=\"chrom\", y=\"count\")"
   ]
  },
  {
   "cell_type": "markdown",
   "id": "327daa5e-b474-4b4a-b2f2-2eda1fa8d171",
   "metadata": {},
   "source": [
    "### MM2 is mod 6, acc to FISH has  acc to FISH has tetrasomy 9, trisomy 11 and 15.; inferCNV has lots of other stuff going on too"
   ]
  },
  {
   "cell_type": "code",
   "execution_count": null,
   "id": "e5f30863-e9c0-4036-9b7f-88e6b25671a4",
   "metadata": {},
   "outputs": [],
   "source": [
    "mod=6\n",
    "\n",
    "res = pd.DataFrame(gtf[gtf.gene.isin(hs.modules[hs.modules==mod].index)].chrom.value_counts().reset_index()) # no enrichment for chromosome 13\n",
    "res.chrom = pd.Categorical(res.chrom, categories=[str(i) for i in np.arange(22)+1] + [\"X\", \"Y\"], ordered=True)\n",
    "sns.barplot(data=res.sort_values(\"chrom\"), x=\"chrom\", y=\"count\")"
   ]
  },
  {
   "cell_type": "markdown",
   "id": "cf4b1775-b450-48fb-b403-22f649fc3d03",
   "metadata": {},
   "source": [
    "# Would we have recovered more CNV genes if we didn't filter to HVG? Too expensive to run hotspot will all genes, but can use rank_genes_groups"
   ]
  },
  {
   "cell_type": "code",
   "execution_count": null,
   "id": "be0c2b7b-141a-40fc-9afb-f4f12990c4ac",
   "metadata": {},
   "outputs": [],
   "source": [
    "sc.tl.rank_genes_groups(cd138_adata, groupby='leiden', method='wilcoxon')"
   ]
  },
  {
   "cell_type": "code",
   "execution_count": null,
   "id": "51bc9be3-ad47-4c23-abbf-72a2b002912b",
   "metadata": {
    "tags": []
   },
   "outputs": [],
   "source": [
    "leiden_genes_df = sc.get.rank_genes_groups_df(cd138_adata, group=None, key='rank_genes_groups_filtered')"
   ]
  },
  {
   "cell_type": "code",
   "execution_count": null,
   "id": "80b8f10b-7866-461c-90f1-dd75c141b51a",
   "metadata": {},
   "outputs": [],
   "source": [
    "sc.pl.umap(cd138_adata, color=[\"leiden\", \"person\"], ncols=1, legend_loc = \"on data\", legend_fontoutline=2)"
   ]
  },
  {
   "cell_type": "code",
   "execution_count": null,
   "id": "6c5d4fe3-0a22-40ba-b901-176aead1ff21",
   "metadata": {},
   "outputs": [],
   "source": [
    "#only returns upregulated genes\n",
    "leiden_genes_df.head()"
   ]
  },
  {
   "cell_type": "markdown",
   "id": "c605c48c-4fee-4a34-90e8-6b65aee74577",
   "metadata": {
    "tags": []
   },
   "source": [
    "### SMM7 is clust 5, acc to FISH and inferCNV has monosomy 13"
   ]
  },
  {
   "cell_type": "code",
   "execution_count": null,
   "id": "9d9fc0f0-2ad9-4315-b24e-9556439fa963",
   "metadata": {},
   "outputs": [],
   "source": [
    "clust=\"5\"\n",
    "res = pd.DataFrame(gtf[gtf.gene.isin(leiden_genes_df[leiden_genes_df.group==clust].names)].chrom.value_counts().reset_index()) # no enrichment for chromosome 1, 13\n",
    "res.chrom = pd.Categorical(res.chrom, categories=[str(i) for i in np.arange(22)+1] + [\"X\", \"Y\"], ordered=True)"
   ]
  },
  {
   "cell_type": "code",
   "execution_count": null,
   "id": "4d7065ef-a186-4d7b-ba4a-13ab83360170",
   "metadata": {},
   "outputs": [],
   "source": [
    "sns.barplot(data=res.sort_values(\"chrom\"), x=\"chrom\", y=\"count\")"
   ]
  },
  {
   "cell_type": "markdown",
   "id": "f361d080-a80b-456a-8148-bc3acd8c75a2",
   "metadata": {},
   "source": [
    "### MM1 is leiden 2, acc to FISH has  acc to FISH has t(4;14), 1q duplication, monosomy 13.; inferCNV has lots of other stuff going on too"
   ]
  },
  {
   "cell_type": "code",
   "execution_count": null,
   "id": "c0977ff0-9edb-4cf1-8fe2-f41e3f4de2c1",
   "metadata": {},
   "outputs": [],
   "source": [
    "clust=\"2\"\n",
    "res = pd.DataFrame(gtf[gtf.gene.isin(leiden_genes_df[leiden_genes_df.group==clust].names)].chrom.value_counts().reset_index()) # no enrichment for chromosome 1, 13\n",
    "res.chrom = pd.Categorical(res.chrom, categories=[str(i) for i in np.arange(22)+1] + [\"X\", \"Y\"], ordered=True)\n",
    "sns.barplot(data=res.sort_values(\"chrom\"), x=\"chrom\", y=\"count\")"
   ]
  },
  {
   "cell_type": "markdown",
   "id": "73b4c9ee-3012-4272-ac3c-fa173559ff0b",
   "metadata": {},
   "source": [
    "### MM2 is clust 0, acc to FISH has tetrasomy 9, trisomy 11 and 15.; inferCNV has lots of other stuff going on too"
   ]
  },
  {
   "cell_type": "code",
   "execution_count": null,
   "id": "af14bb44-a881-450f-add4-12e591c0af36",
   "metadata": {},
   "outputs": [],
   "source": [
    "clust=\"0\"\n",
    "res = pd.DataFrame(gtf[gtf.gene.isin(leiden_genes_df[leiden_genes_df.group==clust].names)].chrom.value_counts().reset_index()) # no enrichment for chromosome 1, 13\n",
    "res.chrom = pd.Categorical(res.chrom, categories=[str(i) for i in np.arange(22)+1] + [\"X\", \"Y\"], ordered=True)\n",
    "sns.barplot(data=res.sort_values(\"chrom\"), x=\"chrom\", y=\"count\")"
   ]
  },
  {
   "cell_type": "markdown",
   "id": "a741e448-fa73-44d9-8106-bd9b11f92c12",
   "metadata": {},
   "source": [
    "# Create gene set scores for CNV genes"
   ]
  },
  {
   "cell_type": "code",
   "execution_count": null,
   "id": "bc1595b5-742c-49c0-9c15-5a18c94f7a26",
   "metadata": {},
   "outputs": [],
   "source": [
    "cnv_genes = pd.read_table(\"outputs/infercnv/cd138/HMM_CNV_predictions.HMMi6.hmm_mode-samples.Pnorm_0.5.pred_cnv_genes.dat\", sep=\"\\t\")"
   ]
  },
  {
   "cell_type": "code",
   "execution_count": null,
   "id": "7160ee0b-ac9d-409f-9749-76a7df539875",
   "metadata": {},
   "outputs": [],
   "source": [
    "# parse sample name\n",
    "cnv_genes['sid'] = [s.split(\".\")[0] for s in cnv_genes.cell_group_name]\n",
    "cnv_genes['sid'] = [s.split(\"_\")[1] for s in cnv_genes.sid]"
   ]
  },
  {
   "cell_type": "code",
   "execution_count": null,
   "id": "72cdeb72-6b88-4926-be10-3c3c903d97f7",
   "metadata": {},
   "outputs": [],
   "source": [
    "cnv_genes"
   ]
  },
  {
   "cell_type": "code",
   "execution_count": null,
   "id": "65f5be54-0da7-403b-b532-bc856364f28a",
   "metadata": {},
   "outputs": [],
   "source": [
    "# only want to include upregulated genes in gene score\n",
    "upgenes = cnv_genes[cnv_genes.state.isin([4,5,6])]"
   ]
  },
  {
   "cell_type": "code",
   "execution_count": null,
   "id": "9279e4ef-e18d-499d-8ab9-8108046c0896",
   "metadata": {},
   "outputs": [],
   "source": [
    "sample_cnv_upgenes = [list(upgenes[upgenes.sid==sid].gene) for sid in upgenes.sid]"
   ]
  },
  {
   "cell_type": "code",
   "execution_count": null,
   "id": "0ca26e24-4fc0-4f16-9630-b3a8d111ffcb",
   "metadata": {},
   "outputs": [],
   "source": [
    "sample_cnv_upgenes = dict(zip([sid for sid in upgenes.sid], sample_cnv_upgenes))"
   ]
  },
  {
   "cell_type": "code",
   "execution_count": null,
   "id": "af1f84cd-e6e6-4ecf-8f43-3d34595a9c6e",
   "metadata": {},
   "outputs": [],
   "source": [
    "[len(sample_cnv_upgenes[i]) for i in sample_cnv_upgenes.keys()]"
   ]
  },
  {
   "cell_type": "code",
   "execution_count": null,
   "id": "1af00fa1-d7bf-4533-8d68-af0315384263",
   "metadata": {},
   "outputs": [],
   "source": [
    "#score adata for each genesets\n",
    "[sc.tl.score_genes(cd138_adata, sample_cnv_upgenes[geneset], ctrl_size=len(sample_cnv_upgenes[geneset]), score_name='score_'+geneset+\"_cnv_upgenes\") \n",
    " for geneset in sample_cnv_upgenes.keys()]\n"
   ]
  },
  {
   "cell_type": "code",
   "execution_count": null,
   "id": "122e1a9b-42e7-4527-ae5d-edfc1577dd94",
   "metadata": {},
   "outputs": [],
   "source": [
    "cd138_adata"
   ]
  },
  {
   "cell_type": "code",
   "execution_count": null,
   "id": "52ebf474-9860-4f31-be46-454e3ee45251",
   "metadata": {},
   "outputs": [],
   "source": [
    "sc.pl.umap(cd138_adata, color=['score_MGUS-2_cnv_upgenes', 'score_MGUS-3_cnv_upgenes', 'score_MGUS-6_cnv_upgenes', 'score_MM-1_cnv_upgenes', 'score_MM-2_cnv_upgenes', 'score_MM-3_cnv_upgenes', 'score_MM-4_cnv_upgenes', 'score_MM-5_cnv_upgenes', 'score_MM-6_cnv_upgenes', 'score_MM-7_cnv_upgenes', 'score_MM-8_cnv_upgenes', 'score_SMM-1_cnv_upgenes', 'score_SMM-10_cnv_upgenes', 'score_SMM-11_cnv_upgenes', 'score_SMM-12_cnv_upgenes', 'score_SMM-2_cnv_upgenes', 'score_SMM-3_cnv_upgenes', 'score_SMM-4_cnv_upgenes', 'score_SMM-5_cnv_upgenes', 'score_SMM-7_cnv_upgenes', 'score_SMM-8_cnv_upgenes'])"
   ]
  },
  {
   "cell_type": "code",
   "execution_count": null,
   "id": "64270e4b-2982-4987-9764-45b942bd7adf",
   "metadata": {},
   "outputs": [],
   "source": [
    "sc.pl.umap(cd138_adata, color=[\"person\"], ncols=1, legend_loc = \"on data\", legend_fontoutline=2)"
   ]
  },
  {
   "cell_type": "code",
   "execution_count": null,
   "id": "191a7fa7-9c0a-433b-913c-a856e519b575",
   "metadata": {},
   "outputs": [],
   "source": [
    "sc.pl.umap(cd138_adata, color=['logW3', 'logW4', 'logW5', 'logW8', 'logW9', 'logW11', 'logW16', 'logW20', 'logW24', 'logW28'])"
   ]
  },
  {
   "cell_type": "markdown",
   "id": "bb8cdcc6-480d-4a6a-a323-e7431cca2ba7",
   "metadata": {},
   "source": [
    "## Do we have translocation data recorded?"
   ]
  },
  {
   "cell_type": "code",
   "execution_count": null,
   "id": "bb8c6a7f-99d2-4287-8826-82185f787a41",
   "metadata": {},
   "outputs": [],
   "source": [
    "cd138_adata.obs[[ 'tx',\n",
    " 'HRD',\n",
    " 'driver event',\n",
    " 'driver_event_specific']]"
   ]
  },
  {
   "cell_type": "code",
   "execution_count": null,
   "id": "a6f177ae-9add-4810-8e31-017bea79ae20",
   "metadata": {},
   "outputs": [],
   "source": [
    "sc.pl.umap(cd138_adata, color=['driver event',\n",
    " 'driver_event_specific'])"
   ]
  },
  {
   "cell_type": "code",
   "execution_count": null,
   "id": "cd99c176-e9cb-469d-84e3-bf9312e8617a",
   "metadata": {},
   "outputs": [],
   "source": [
    "cd138_adata.var.highly_variable.sum()"
   ]
  },
  {
   "cell_type": "code",
   "execution_count": null,
   "id": "e0bd7fdc-cb7b-4b88-98ab-1ce86ef65709",
   "metadata": {},
   "outputs": [],
   "source": []
  }
 ],
 "metadata": {
  "kernelspec": {
   "display_name": "scvi",
   "language": "python",
   "name": "scvi"
  },
  "language_info": {
   "codemirror_mode": {
    "name": "ipython",
    "version": 3
   },
   "file_extension": ".py",
   "mimetype": "text/x-python",
   "name": "python",
   "nbconvert_exporter": "python",
   "pygments_lexer": "ipython3",
   "version": "3.9.16"
  }
 },
 "nbformat": 4,
 "nbformat_minor": 5
}
