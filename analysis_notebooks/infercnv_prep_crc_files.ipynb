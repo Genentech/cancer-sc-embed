{
 "cells": [
  {
   "cell_type": "markdown",
   "id": "d5fc4104-6a9a-4180-9d2a-665a6dfdc42e",
   "metadata": {},
   "source": [
    "# a python script for creating the counts and cell annotation files for the crc dataset that inferCNV will use\n",
    "#### (the GTF file was created in R; the counts file is good as downloaded from NCBI GEO https://www.ncbi.nlm.nih.gov/geo/query/acc.cgi?acc=GSE132465)"
   ]
  },
  {
   "cell_type": "code",
   "execution_count": 1,
   "id": "bc5e4656-ddda-43cd-b041-0216c36aa624",
   "metadata": {},
   "outputs": [],
   "source": [
    "import pandas as pd \n",
    "import numpy as np\n",
    "import anndata as ad\n",
    "import scanpy as sc"
   ]
  },
  {
   "cell_type": "code",
   "execution_count": 8,
   "id": "2c28c85f-4607-4ecf-a10d-9377e3ee65ee",
   "metadata": {},
   "outputs": [],
   "source": [
    "cell_annots = pd.read_table(\"gs://rebecca-summer23/crc_lee2020_data/GSE132465_GEO_processed_CRC_10X_cell_annotation.txt\")\n"
   ]
  },
  {
   "cell_type": "code",
   "execution_count": 9,
   "id": "86f4115a-08b6-4b26-b0f2-75e175b4965c",
   "metadata": {},
   "outputs": [],
   "source": [
    "cell_annots.Class = cell_annots.Class.map({'Tumor':'malignant','Normal':'normal'})"
   ]
  },
  {
   "cell_type": "code",
   "execution_count": 10,
   "id": "f1a18f3c-279a-41f9-a749-c83b1dfbb4cf",
   "metadata": {},
   "outputs": [
    {
     "data": {
      "text/html": [
       "<div>\n",
       "<style scoped>\n",
       "    .dataframe tbody tr th:only-of-type {\n",
       "        vertical-align: middle;\n",
       "    }\n",
       "\n",
       "    .dataframe tbody tr th {\n",
       "        vertical-align: top;\n",
       "    }\n",
       "\n",
       "    .dataframe thead th {\n",
       "        text-align: right;\n",
       "    }\n",
       "</style>\n",
       "<table border=\"1\" class=\"dataframe\">\n",
       "  <thead>\n",
       "    <tr style=\"text-align: right;\">\n",
       "      <th></th>\n",
       "      <th>Index</th>\n",
       "      <th>Patient</th>\n",
       "      <th>Class</th>\n",
       "      <th>Sample</th>\n",
       "      <th>Cell_type</th>\n",
       "      <th>Cell_subtype</th>\n",
       "    </tr>\n",
       "  </thead>\n",
       "  <tbody>\n",
       "    <tr>\n",
       "      <th>0</th>\n",
       "      <td>SMC01-T_AAACCTGCATACGCCG</td>\n",
       "      <td>SMC01</td>\n",
       "      <td>malignant</td>\n",
       "      <td>SMC01-T</td>\n",
       "      <td>Epithelial cells</td>\n",
       "      <td>CMS2</td>\n",
       "    </tr>\n",
       "    <tr>\n",
       "      <th>1</th>\n",
       "      <td>SMC01-T_AAACCTGGTCGCATAT</td>\n",
       "      <td>SMC01</td>\n",
       "      <td>malignant</td>\n",
       "      <td>SMC01-T</td>\n",
       "      <td>Epithelial cells</td>\n",
       "      <td>CMS2</td>\n",
       "    </tr>\n",
       "    <tr>\n",
       "      <th>2</th>\n",
       "      <td>SMC01-T_AAACCTGTCCCTTGCA</td>\n",
       "      <td>SMC01</td>\n",
       "      <td>malignant</td>\n",
       "      <td>SMC01-T</td>\n",
       "      <td>Epithelial cells</td>\n",
       "      <td>CMS2</td>\n",
       "    </tr>\n",
       "    <tr>\n",
       "      <th>3</th>\n",
       "      <td>SMC01-T_AAACGGGAGGGAAACA</td>\n",
       "      <td>SMC01</td>\n",
       "      <td>malignant</td>\n",
       "      <td>SMC01-T</td>\n",
       "      <td>Epithelial cells</td>\n",
       "      <td>CMS2</td>\n",
       "    </tr>\n",
       "    <tr>\n",
       "      <th>4</th>\n",
       "      <td>SMC01-T_AAACGGGGTATAGGTA</td>\n",
       "      <td>SMC01</td>\n",
       "      <td>malignant</td>\n",
       "      <td>SMC01-T</td>\n",
       "      <td>Epithelial cells</td>\n",
       "      <td>CMS2</td>\n",
       "    </tr>\n",
       "    <tr>\n",
       "      <th>...</th>\n",
       "      <td>...</td>\n",
       "      <td>...</td>\n",
       "      <td>...</td>\n",
       "      <td>...</td>\n",
       "      <td>...</td>\n",
       "      <td>...</td>\n",
       "    </tr>\n",
       "    <tr>\n",
       "      <th>63684</th>\n",
       "      <td>SMC10-N_TCAGCTCGTAGCGTCC</td>\n",
       "      <td>SMC10</td>\n",
       "      <td>normal</td>\n",
       "      <td>SMC10-N</td>\n",
       "      <td>Mast cells</td>\n",
       "      <td>Mast cells</td>\n",
       "    </tr>\n",
       "    <tr>\n",
       "      <th>63685</th>\n",
       "      <td>SMC10-N_TGACTAGCAGACGCAA</td>\n",
       "      <td>SMC10</td>\n",
       "      <td>normal</td>\n",
       "      <td>SMC10-N</td>\n",
       "      <td>Mast cells</td>\n",
       "      <td>Mast cells</td>\n",
       "    </tr>\n",
       "    <tr>\n",
       "      <th>63686</th>\n",
       "      <td>SMC10-N_TGCTACCGTCTCCATC</td>\n",
       "      <td>SMC10</td>\n",
       "      <td>normal</td>\n",
       "      <td>SMC10-N</td>\n",
       "      <td>Mast cells</td>\n",
       "      <td>Mast cells</td>\n",
       "    </tr>\n",
       "    <tr>\n",
       "      <th>63687</th>\n",
       "      <td>SMC10-N_TTTATGCAGTGTCTCA</td>\n",
       "      <td>SMC10</td>\n",
       "      <td>normal</td>\n",
       "      <td>SMC10-N</td>\n",
       "      <td>Mast cells</td>\n",
       "      <td>Mast cells</td>\n",
       "    </tr>\n",
       "    <tr>\n",
       "      <th>63688</th>\n",
       "      <td>SMC10-N_TTTGGTTAGTGCCATT</td>\n",
       "      <td>SMC10</td>\n",
       "      <td>normal</td>\n",
       "      <td>SMC10-N</td>\n",
       "      <td>Mast cells</td>\n",
       "      <td>Mast cells</td>\n",
       "    </tr>\n",
       "  </tbody>\n",
       "</table>\n",
       "<p>63689 rows × 6 columns</p>\n",
       "</div>"
      ],
      "text/plain": [
       "                          Index Patient      Class   Sample         Cell_type  \\\n",
       "0      SMC01-T_AAACCTGCATACGCCG   SMC01  malignant  SMC01-T  Epithelial cells   \n",
       "1      SMC01-T_AAACCTGGTCGCATAT   SMC01  malignant  SMC01-T  Epithelial cells   \n",
       "2      SMC01-T_AAACCTGTCCCTTGCA   SMC01  malignant  SMC01-T  Epithelial cells   \n",
       "3      SMC01-T_AAACGGGAGGGAAACA   SMC01  malignant  SMC01-T  Epithelial cells   \n",
       "4      SMC01-T_AAACGGGGTATAGGTA   SMC01  malignant  SMC01-T  Epithelial cells   \n",
       "...                         ...     ...        ...      ...               ...   \n",
       "63684  SMC10-N_TCAGCTCGTAGCGTCC   SMC10     normal  SMC10-N        Mast cells   \n",
       "63685  SMC10-N_TGACTAGCAGACGCAA   SMC10     normal  SMC10-N        Mast cells   \n",
       "63686  SMC10-N_TGCTACCGTCTCCATC   SMC10     normal  SMC10-N        Mast cells   \n",
       "63687  SMC10-N_TTTATGCAGTGTCTCA   SMC10     normal  SMC10-N        Mast cells   \n",
       "63688  SMC10-N_TTTGGTTAGTGCCATT   SMC10     normal  SMC10-N        Mast cells   \n",
       "\n",
       "      Cell_subtype  \n",
       "0             CMS2  \n",
       "1             CMS2  \n",
       "2             CMS2  \n",
       "3             CMS2  \n",
       "4             CMS2  \n",
       "...            ...  \n",
       "63684   Mast cells  \n",
       "63685   Mast cells  \n",
       "63686   Mast cells  \n",
       "63687   Mast cells  \n",
       "63688   Mast cells  \n",
       "\n",
       "[63689 rows x 6 columns]"
      ]
     },
     "execution_count": 10,
     "metadata": {},
     "output_type": "execute_result"
    }
   ],
   "source": [
    "cell_annots"
   ]
  },
  {
   "cell_type": "code",
   "execution_count": 11,
   "id": "e1d216a0-3158-4d47-8c42-2183f2beb261",
   "metadata": {},
   "outputs": [],
   "source": [
    "cell_annots['label'] = cell_annots['Class'] + \"_\" + cell_annots['Patient']"
   ]
  },
  {
   "cell_type": "code",
   "execution_count": 12,
   "id": "fa8277cf-53ab-42eb-b31c-2b85a05dde96",
   "metadata": {},
   "outputs": [],
   "source": [
    "cell_annots['final_label'] = np.where(cell_annots['Class']==\"malignant\", cell_annots['label'], cell_annots['Cell_type'])"
   ]
  },
  {
   "cell_type": "code",
   "execution_count": 13,
   "id": "20112506-06a6-46c4-97b6-f150cab703c4",
   "metadata": {},
   "outputs": [
    {
     "data": {
      "text/plain": [
       "final_label\n",
       "T cells             6376\n",
       "B cells             5208\n",
       "malignant_SMC07     4070\n",
       "malignant_SMC09     3789\n",
       "Stromal cells       3197\n",
       "malignant_SMC16     2956\n",
       "malignant_SMC01     2791\n",
       "malignant_SMC22     2363\n",
       "malignant_SMC21     2348\n",
       "malignant_SMC10     2200\n",
       "malignant_SMC03     2123\n",
       "malignant_SMC08     2089\n",
       "malignant_SMC15     2027\n",
       "malignant_SMC18     1936\n",
       "malignant_SMC04     1841\n",
       "malignant_SMC14     1749\n",
       "malignant_SMC11     1698\n",
       "malignant_SMC02     1689\n",
       "malignant_SMC20     1681\n",
       "malignant_SMC23     1639\n",
       "malignant_SMC25     1632\n",
       "malignant_SMC24     1580\n",
       "malignant_SMC06     1541\n",
       "malignant_SMC19     1540\n",
       "malignant_SMC17     1343\n",
       "Epithelial cells    1070\n",
       "malignant_SMC05      660\n",
       "Myeloids             369\n",
       "Mast cells           184\n",
       "Name: count, dtype: int64"
      ]
     },
     "execution_count": 13,
     "metadata": {},
     "output_type": "execute_result"
    }
   ],
   "source": [
    "cell_annots['final_label'].value_counts()"
   ]
  },
  {
   "cell_type": "code",
   "execution_count": 14,
   "id": "d0602899-f5a0-4289-8b19-da67b4ff73dc",
   "metadata": {},
   "outputs": [],
   "source": [
    "cell_annots[['Index','final_label']].to_csv(\"data/infercnv_input_files/crc/cell_annots.txt\", sep=\"\\t\", header=False, index=False)"
   ]
  },
  {
   "cell_type": "code",
   "execution_count": null,
   "id": "0db4d69e-10c3-497d-98f5-66f4867b8884",
   "metadata": {},
   "outputs": [],
   "source": []
  }
 ],
 "metadata": {
  "kernelspec": {
   "display_name": "scvi",
   "language": "python",
   "name": "scvi"
  },
  "language_info": {
   "codemirror_mode": {
    "name": "ipython",
    "version": 3
   },
   "file_extension": ".py",
   "mimetype": "text/x-python",
   "name": "python",
   "nbconvert_exporter": "python",
   "pygments_lexer": "ipython3",
   "version": "3.9.16"
  }
 },
 "nbformat": 4,
 "nbformat_minor": 5
}
